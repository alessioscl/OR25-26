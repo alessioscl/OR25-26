{
 "cells": [
  {
   "cell_type": "markdown",
   "metadata": {},
   "source": [
    "# Esempio 5: Selezione Progetti con Budget Limitato\n",
    "\n",
    "## Ricerca Operativa - Problema dello Zaino (Knapsack Problem)\n",
    "\n",
    "**Obiettivo**: Imparare a risolvere problemi di selezione con vincoli multipli usando programmazione binaria.\n",
    "\n",
    "---"
   ]
  },
  {
   "cell_type": "markdown",
   "metadata": {},
   "source": [
    "## 📋 Descrizione del Problema\n",
    "\n",
    "Un'azienda deve **selezionare quali progetti di innovazione finanziare** con risorse limitate.\n",
    "\n",
    "### 🎯 Il Problema dello Zaino (Knapsack)\n",
    "\n",
    "**Analogia classica:**  \n",
    "Avete uno zaino con capacità limitata e dovete scegliere quali oggetti portare per massimizzare il valore totale.\n",
    "\n",
    "**Nel nostro caso:**\n",
    "- **Zaino** = Budget e risorse disponibili\n",
    "- **Oggetti** = Progetti da valutare\n",
    "- **Peso** = Costi e risorse necessarie\n",
    "- **Valore** = VAN (Valore Attuale Netto)\n",
    "\n",
    "### Dati disponibili:\n",
    "\n",
    "| Progetto | VAN (k€) | Investimento (k€) | Risorse (FTE) | Durata (mesi) |\n",
    "|----------|----------|-------------------|---------------|---------------|\n",
    "| P1       | 250      | 120               | 3             | 12            |\n",
    "| P2       | 180      | 80                | 2             | 8             |\n",
    "| P3       | 320      | 150               | 4             | 15            |\n",
    "| P4       | 200      | 100               | 2             | 10            |\n",
    "| P5       | 150      | 70                | 2             | 6             |\n",
    "| P6       | 280      | 130               | 3             | 14            |\n",
    "\n",
    "**VAN (Valore Attuale Netto)**: Misura il valore creato da un progetto in termini monetari, scontato al presente.\n",
    "\n",
    "### Vincoli:\n",
    "- **Budget totale disponibile**: 300 k€\n",
    "- **Risorse umane disponibili**: 7 FTE (Full-Time Equivalent)\n",
    "- I progetti sono **indivisibili** (tutto o niente)\n",
    "\n",
    "### Obiettivo:\n",
    "Selezionare il **portafoglio di progetti che massimizza il VAN totale** rispettando i vincoli di budget e risorse.\n",
    "\n",
    "### 🤔 Domande strategiche:\n",
    "1. Dobbiamo fare il progetto con VAN più alto (P3)?\n",
    "2. È meglio fare pochi progetti grandi o molti piccoli?\n",
    "3. Come bilanciare budget e risorse umane?"
   ]
  },
  {
   "cell_type": "markdown",
   "metadata": {},
   "source": [
    "## 📐 Modello Matematico\n",
    "\n",
    "### Insiemi:\n",
    "- $P = \\{1, 2, 3, 4, 5, 6\\}$ = insieme dei progetti\n",
    "\n",
    "### Parametri:\n",
    "- $v_i$ = VAN del progetto $i$ (k€)\n",
    "- $c_i$ = costo (investimento) del progetto $i$ (k€)\n",
    "- $r_i$ = risorse necessarie per il progetto $i$ (FTE)\n",
    "- $B$ = budget totale disponibile (300 k€)\n",
    "- $R$ = risorse totali disponibili (7 FTE)\n",
    "\n",
    "### Variabili decisionali:\n",
    "\n",
    "**Variabili binarie:**\n",
    "$$x_i \\in \\{0, 1\\} = \\begin{cases}\n",
    "1 & \\text{se selezioniamo il progetto } i \\\\\n",
    "0 & \\text{se NON selezioniamo il progetto } i\n",
    "\\end{cases}$$\n",
    "\n",
    "### Funzione obiettivo:\n",
    "$$\\max z = \\sum_{i \\in P} v_i \\cdot x_i$$\n",
    "\n",
    "Massimizziamo la somma dei VAN dei progetti selezionati.\n",
    "\n",
    "### Vincoli:\n",
    "\n",
    "**1. Vincolo di budget:**\n",
    "$$\\sum_{i \\in P} c_i \\cdot x_i \\leq B$$\n",
    "La somma dei costi dei progetti selezionati non può superare il budget.\n",
    "\n",
    "**2. Vincolo di risorse:**\n",
    "$$\\sum_{i \\in P} r_i \\cdot x_i \\leq R$$\n",
    "La somma delle risorse necessarie non può superare le risorse disponibili.\n",
    "\n",
    "**3. Vincoli di binarietà:**\n",
    "$$x_i \\in \\{0, 1\\} \\quad \\forall i \\in P$$\n",
    "\n",
    "### Tipo di problema:\n",
    "- **Binary Integer Programming (BIP)** - Solo variabili binarie\n",
    "- **Multidimensional Knapsack Problem** - Due vincoli di capacità\n",
    "- **NP-hard** - Computazionalmente difficile per grandi istanze"
   ]
  },
  {
   "cell_type": "markdown",
   "metadata": {},
   "source": [
    "## 💻 Implementazione in Gurobi\n",
    "\n",
    "### Step 1: Import e Setup"
   ]
  },
  {
   "cell_type": "code",
   "execution_count": 1,
   "metadata": {},
   "outputs": [
    {
     "name": "stdout",
     "output_type": "stream",
     "text": [
      "Librerie importate con successo!\n",
      "Versione Gurobi: (12, 0, 3)\n"
     ]
    }
   ],
   "source": [
    "# Import delle librerie necessarie\n",
    "import gurobipy as gp\n",
    "from gurobipy import GRB\n",
    "import pandas as pd\n",
    "import numpy as np\n",
    "import matplotlib.pyplot as plt\n",
    "import seaborn as sns\n",
    "from itertools import combinations\n",
    "\n",
    "%matplotlib inline\n",
    "\n",
    "# Stile grafici\n",
    "sns.set_style(\"whitegrid\")\n",
    "plt.rcParams['figure.figsize'] = (12, 6)\n",
    "\n",
    "print(\"Librerie importate con successo!\")\n",
    "print(f\"Versione Gurobi: {gp.gurobi.version()}\")"
   ]
  },
  {
   "cell_type": "markdown",
   "metadata": {},
   "source": [
    "### Step 2: Definizione dei Dati del Problema"
   ]
  },
  {
   "cell_type": "code",
   "execution_count": 2,
   "metadata": {},
   "outputs": [
    {
     "name": "stdout",
     "output_type": "stream",
     "text": [
      "\n",
      "=== DATI DEL PROBLEMA ===\n",
      "\n",
      "Numero progetti candidati: 6\n",
      "Budget disponibile: 300 k€\n",
      "Risorse disponibili: 7 FTE\n",
      "\n",
      "VAN totale se facessimo tutti i progetti: 1380 k€\n",
      "Costo totale se facessimo tutti i progetti: 650 k€\n",
      "Risorse totali necessarie: 16 FTE\n",
      "\n",
      "⚠️ Non possiamo fare tutti i progetti! Dobbiamo scegliere.\n"
     ]
    }
   ],
   "source": [
    "# Insieme dei progetti\n",
    "progetti = [1, 2, 3, 4, 5, 6]\n",
    "\n",
    "# VAN (Valore Attuale Netto) per progetto (k€)\n",
    "van = {\n",
    "    1: 250,\n",
    "    2: 180,\n",
    "    3: 320,\n",
    "    4: 200,\n",
    "    5: 150,\n",
    "    6: 280\n",
    "}\n",
    "\n",
    "# Costo (investimento) per progetto (k€)\n",
    "costo = {\n",
    "    1: 120,\n",
    "    2: 80,\n",
    "    3: 150,\n",
    "    4: 100,\n",
    "    5: 70,\n",
    "    6: 130\n",
    "}\n",
    "\n",
    "# Risorse necessarie (FTE - Full Time Equivalent)\n",
    "risorse = {\n",
    "    1: 3,\n",
    "    2: 2,\n",
    "    3: 4,\n",
    "    4: 2,\n",
    "    5: 2,\n",
    "    6: 3\n",
    "}\n",
    "\n",
    "# Durata progetti (mesi) - informazione aggiuntiva\n",
    "durata = {\n",
    "    1: 12,\n",
    "    2: 8,\n",
    "    3: 15,\n",
    "    4: 10,\n",
    "    5: 6,\n",
    "    6: 14\n",
    "}\n",
    "\n",
    "# Vincoli di capacità\n",
    "budget_disponibile = 300  # k€\n",
    "risorse_disponibili = 7   # FTE\n",
    "\n",
    "print(\"\\n=== DATI DEL PROBLEMA ===\")\n",
    "print(f\"\\nNumero progetti candidati: {len(progetti)}\")\n",
    "print(f\"Budget disponibile: {budget_disponibile} k€\")\n",
    "print(f\"Risorse disponibili: {risorse_disponibili} FTE\")\n",
    "print(f\"\\nVAN totale se facessimo tutti i progetti: {sum(van.values())} k€\")\n",
    "print(f\"Costo totale se facessimo tutti i progetti: {sum(costo.values())} k€\")\n",
    "print(f\"Risorse totali necessarie: {sum(risorse.values())} FTE\")\n",
    "print(f\"\\n⚠️ Non possiamo fare tutti i progetti! Dobbiamo scegliere.\")"
   ]
  },
  {
   "cell_type": "code",
   "execution_count": 3,
   "metadata": {},
   "outputs": [
    {
     "name": "stdout",
     "output_type": "stream",
     "text": [
      "\n",
      "=== TABELLA PROGETTI (ordinati per VAN) ===\n",
      "Progetto  VAN (k€)  Costo (k€)  Risorse (FTE)  Durata (mesi)  ROI (VAN/Costo)    VAN/FTE\n",
      "      P3       320         150              4             15         2.133333  80.000000\n",
      "      P6       280         130              3             14         2.153846  93.333333\n",
      "      P1       250         120              3             12         2.083333  83.333333\n",
      "      P4       200         100              2             10         2.000000 100.000000\n",
      "      P2       180          80              2              8         2.250000  90.000000\n",
      "      P5       150          70              2              6         2.142857  75.000000\n",
      "\n",
      "💡 METRICHE DI EFFICIENZA:\n",
      "  ROI = VAN / Costo (quanto valore per ogni € investito)\n",
      "  VAN/FTE = quanto valore per ogni risorsa umana utilizzata\n"
     ]
    }
   ],
   "source": [
    "# Visualizzazione tabellare completa\n",
    "df_progetti = pd.DataFrame({\n",
    "    'Progetto': [f'P{i}' for i in progetti],\n",
    "    'VAN (k€)': [van[i] for i in progetti],\n",
    "    'Costo (k€)': [costo[i] for i in progetti],\n",
    "    'Risorse (FTE)': [risorse[i] for i in progetti],\n",
    "    'Durata (mesi)': [durata[i] for i in progetti],\n",
    "    'ROI (VAN/Costo)': [van[i]/costo[i] for i in progetti],\n",
    "    'VAN/FTE': [van[i]/risorse[i] for i in progetti]\n",
    "})\n",
    "\n",
    "# Ordina per VAN decrescente\n",
    "df_progetti_sorted = df_progetti.sort_values('VAN (k€)', ascending=False)\n",
    "\n",
    "print(\"\\n=== TABELLA PROGETTI (ordinati per VAN) ===\")\n",
    "print(df_progetti_sorted.to_string(index=False))\n",
    "\n",
    "print(\"\\n💡 METRICHE DI EFFICIENZA:\")\n",
    "print(\"  ROI = VAN / Costo (quanto valore per ogni € investito)\")\n",
    "print(\"  VAN/FTE = quanto valore per ogni risorsa umana utilizzata\")"
   ]
  },
  {
   "cell_type": "markdown",
   "metadata": {},
   "source": [
    "### Step 3: Analisi Preliminare\n",
    "\n",
    "Prima di risolvere il problema, esploriamo alcune soluzioni \"intuitive\"."
   ]
  },
  {
   "cell_type": "code",
   "execution_count": 4,
   "metadata": {},
   "outputs": [
    {
     "name": "stdout",
     "output_type": "stream",
     "text": [
      "\n",
      "======================================================================\n",
      "              ANALISI SOLUZIONI INTUITIVE (GREEDY)\n",
      "======================================================================\n",
      "\n",
      "📊 STRATEGIA 1: Greedy per VAN massimo\n",
      "----------------------------------------------------------------------\n",
      "Ordine progetti per VAN: ['P3', 'P6', 'P1', 'P4', 'P2', 'P5']\n",
      "\n",
      "Progetti selezionati: ['P3', 'P6']\n",
      "VAN totale: 600 k€\n",
      "Budget utilizzato: 280/300 k€\n",
      "Risorse utilizzate: 7/7 FTE\n",
      "\n",
      "📊 STRATEGIA 2: Greedy per ROI (VAN/Costo)\n",
      "----------------------------------------------------------------------\n",
      "Ordine progetti per ROI: ['P2', 'P6', 'P5', 'P3', 'P1', 'P4']\n",
      "\n",
      "Progetti selezionati: ['P2', 'P6', 'P5']\n",
      "VAN totale: 610 k€\n",
      "Budget utilizzato: 280/300 k€\n",
      "Risorse utilizzate: 7/7 FTE\n",
      "\n",
      "📊 STRATEGIA 3: Greedy per efficienza risorse (VAN/FTE)\n",
      "----------------------------------------------------------------------\n",
      "Ordine progetti per VAN/FTE: ['P4', 'P6', 'P2', 'P1', 'P3', 'P5']\n",
      "\n",
      "Progetti selezionati: ['P4', 'P6', 'P5']\n",
      "VAN totale: 630 k€\n",
      "Budget utilizzato: 300/300 k€\n",
      "Risorse utilizzate: 7/7 FTE\n",
      "\n",
      "======================================================================\n",
      "\n",
      "🤔 Quale strategia è migliore? Vediamo la soluzione OTTIMA...\n",
      "======================================================================\n"
     ]
    }
   ],
   "source": [
    "print(\"\\n\" + \"=\"*70)\n",
    "print(\"              ANALISI SOLUZIONI INTUITIVE (GREEDY)\")\n",
    "print(\"=\"*70)\n",
    "\n",
    "# Soluzione 1: Greedy per VAN (prendi progetti con VAN più alto)\n",
    "print(\"\\n📊 STRATEGIA 1: Greedy per VAN massimo\")\n",
    "print(\"-\" * 70)\n",
    "progetti_ordinati_van = sorted(progetti, key=lambda i: van[i], reverse=True)\n",
    "print(f\"Ordine progetti per VAN: {['P'+str(i) for i in progetti_ordinati_van]}\")\n",
    "\n",
    "selezionati_van = []\n",
    "budget_usato = 0\n",
    "risorse_usate = 0\n",
    "\n",
    "for p in progetti_ordinati_van:\n",
    "    if budget_usato + costo[p] <= budget_disponibile and risorse_usate + risorse[p] <= risorse_disponibili:\n",
    "        selezionati_van.append(p)\n",
    "        budget_usato += costo[p]\n",
    "        risorse_usate += risorse[p]\n",
    "\n",
    "van_totale_1 = sum(van[p] for p in selezionati_van)\n",
    "print(f\"\\nProgetti selezionati: {['P'+str(p) for p in selezionati_van]}\")\n",
    "print(f\"VAN totale: {van_totale_1} k€\")\n",
    "print(f\"Budget utilizzato: {budget_usato}/{budget_disponibile} k€\")\n",
    "print(f\"Risorse utilizzate: {risorse_usate}/{risorse_disponibili} FTE\")\n",
    "\n",
    "# Soluzione 2: Greedy per ROI (VAN/Costo)\n",
    "print(\"\\n📊 STRATEGIA 2: Greedy per ROI (VAN/Costo)\")\n",
    "print(\"-\" * 70)\n",
    "progetti_ordinati_roi = sorted(progetti, key=lambda i: van[i]/costo[i], reverse=True)\n",
    "print(f\"Ordine progetti per ROI: {['P'+str(i) for i in progetti_ordinati_roi]}\")\n",
    "\n",
    "selezionati_roi = []\n",
    "budget_usato = 0\n",
    "risorse_usate = 0\n",
    "\n",
    "for p in progetti_ordinati_roi:\n",
    "    if budget_usato + costo[p] <= budget_disponibile and risorse_usate + risorse[p] <= risorse_disponibili:\n",
    "        selezionati_roi.append(p)\n",
    "        budget_usato += costo[p]\n",
    "        risorse_usate += risorse[p]\n",
    "\n",
    "van_totale_2 = sum(van[p] for p in selezionati_roi)\n",
    "print(f\"\\nProgetti selezionati: {['P'+str(p) for p in selezionati_roi]}\")\n",
    "print(f\"VAN totale: {van_totale_2} k€\")\n",
    "print(f\"Budget utilizzato: {sum(costo[p] for p in selezionati_roi)}/{budget_disponibile} k€\")\n",
    "print(f\"Risorse utilizzate: {sum(risorse[p] for p in selezionati_roi)}/{risorse_disponibili} FTE\")\n",
    "\n",
    "# Soluzione 3: Greedy per VAN/FTE\n",
    "print(\"\\n📊 STRATEGIA 3: Greedy per efficienza risorse (VAN/FTE)\")\n",
    "print(\"-\" * 70)\n",
    "progetti_ordinati_fte = sorted(progetti, key=lambda i: van[i]/risorse[i], reverse=True)\n",
    "print(f\"Ordine progetti per VAN/FTE: {['P'+str(i) for i in progetti_ordinati_fte]}\")\n",
    "\n",
    "selezionati_fte = []\n",
    "budget_usato = 0\n",
    "risorse_usate = 0\n",
    "\n",
    "for p in progetti_ordinati_fte:\n",
    "    if budget_usato + costo[p] <= budget_disponibile and risorse_usate + risorse[p] <= risorse_disponibili:\n",
    "        selezionati_fte.append(p)\n",
    "        budget_usato += costo[p]\n",
    "        risorse_usate += risorse[p]\n",
    "\n",
    "van_totale_3 = sum(van[p] for p in selezionati_fte)\n",
    "print(f\"\\nProgetti selezionati: {['P'+str(p) for p in selezionati_fte]}\")\n",
    "print(f\"VAN totale: {van_totale_3} k€\")\n",
    "print(f\"Budget utilizzato: {sum(costo[p] for p in selezionati_fte)}/{budget_disponibile} k€\")\n",
    "print(f\"Risorse utilizzate: {sum(risorse[p] for p in selezionati_fte)}/{risorse_disponibili} FTE\")\n",
    "\n",
    "print(\"\\n\" + \"=\"*70)\n",
    "print(\"\\n🤔 Quale strategia è migliore? Vediamo la soluzione OTTIMA...\")\n",
    "print(\"=\"*70)"
   ]
  },
  {
   "cell_type": "markdown",
   "metadata": {},
   "source": [
    "### Step 4: Creazione del Modello Gurobi"
   ]
  },
  {
   "cell_type": "code",
   "execution_count": 5,
   "metadata": {},
   "outputs": [
    {
     "name": "stdout",
     "output_type": "stream",
     "text": [
      "Set parameter Username\n",
      "Set parameter LicenseID to value 2704465\n",
      "Academic license - for non-commercial use only - expires 2026-09-08\n",
      "Modello BIP (Binary Integer Programming) creato con successo!\n"
     ]
    }
   ],
   "source": [
    "# Creiamo il modello\n",
    "modello = gp.Model(\"Selezione_Progetti_Knapsack\")\n",
    "\n",
    "# Opzionale: output silenzioso\n",
    "modello.Params.OutputFlag = 0\n",
    "\n",
    "print(\"Modello BIP (Binary Integer Programming) creato con successo!\")"
   ]
  },
  {
   "cell_type": "markdown",
   "metadata": {},
   "source": [
    "### Step 5: Definizione delle Variabili Decisionali\n",
    "\n",
    "Solo **variabili binarie** in questo problema!"
   ]
  },
  {
   "cell_type": "code",
   "execution_count": 6,
   "metadata": {},
   "outputs": [
    {
     "name": "stdout",
     "output_type": "stream",
     "text": [
      "\n",
      "=== VARIABILI DECISIONALI ===\n",
      "Variabili binarie: 6\n",
      "\n",
      "Ogni variabile x_i può essere:\n",
      "  x_i = 1 → Selezioniamo il progetto i\n",
      "  x_i = 0 → NON selezioniamo il progetto i\n",
      "\n",
      "Combinazioni possibili: 2^6 = 64 soluzioni\n",
      "(Ma non tutte sono ammissibili - molte violano i vincoli!)\n"
     ]
    }
   ],
   "source": [
    "# Variabili binarie: x[i] = 1 se selezioniamo il progetto i, 0 altrimenti\n",
    "x = {}\n",
    "for i in progetti:\n",
    "    x[i] = modello.addVar(\n",
    "        vtype=GRB.BINARY,  # ← Variabile binaria (0 o 1)\n",
    "        name=f\"x_P{i}\"\n",
    "    )\n",
    "\n",
    "modello.update()\n",
    "\n",
    "print(\"\\n=== VARIABILI DECISIONALI ===\")\n",
    "print(f\"Variabili binarie: {len(progetti)}\")\n",
    "print(\"\\nOgni variabile x_i può essere:\")\n",
    "print(\"  x_i = 1 → Selezioniamo il progetto i\")\n",
    "print(\"  x_i = 0 → NON selezioniamo il progetto i\")\n",
    "print(f\"\\nCombinazioni possibili: 2^{len(progetti)} = {2**len(progetti)} soluzioni\")\n",
    "print(\"(Ma non tutte sono ammissibili - molte violano i vincoli!)\")"
   ]
  },
  {
   "cell_type": "markdown",
   "metadata": {},
   "source": [
    "### Step 6: Definizione della Funzione Obiettivo"
   ]
  },
  {
   "cell_type": "code",
   "execution_count": 7,
   "metadata": {},
   "outputs": [
    {
     "name": "stdout",
     "output_type": "stream",
     "text": [
      "\n",
      "=== FUNZIONE OBIETTIVO ===\n",
      "Massimizza: Σ VAN_i * x_i\n",
      "\n",
      "Cioè: massimizzare la somma dei VAN dei progetti selezionati\n",
      "\n",
      "Esempio: Se selezioniamo P1, P3 e P5:\n",
      "  VAN totale = 250 + 320 + 150 = 720 k€\n"
     ]
    }
   ],
   "source": [
    "# Funzione obiettivo: massimizzare il VAN totale\n",
    "funzione_obiettivo = gp.quicksum(van[i] * x[i] for i in progetti)\n",
    "\n",
    "modello.setObjective(funzione_obiettivo, GRB.MAXIMIZE)\n",
    "\n",
    "print(\"\\n=== FUNZIONE OBIETTIVO ===\")\n",
    "print(\"Massimizza: Σ VAN_i * x_i\")\n",
    "print(\"\\nCioè: massimizzare la somma dei VAN dei progetti selezionati\")\n",
    "print(\"\\nEsempio: Se selezioniamo P1, P3 e P5:\")\n",
    "print(f\"  VAN totale = {van[1]} + {van[3]} + {van[5]} = {van[1] + van[3] + van[5]} k€\")"
   ]
  },
  {
   "cell_type": "markdown",
   "metadata": {},
   "source": [
    "### Step 7: Aggiunta dei Vincoli"
   ]
  },
  {
   "cell_type": "code",
   "execution_count": 8,
   "metadata": {},
   "outputs": [
    {
     "name": "stdout",
     "output_type": "stream",
     "text": [
      "\n",
      "=== VINCOLO DI BUDGET ===\n",
      "Σ Costo_i * x_i ≤ 300 k€\n",
      "\n",
      "Esempio: Se selezioniamo P1, P3 e P5:\n",
      "  Costo totale = 120 + 150 + 70 = 340 k€\n",
      "  ✗ Viola il vincolo\n"
     ]
    }
   ],
   "source": [
    "# VINCOLO 1: Budget\n",
    "# La somma dei costi dei progetti selezionati non può superare il budget\n",
    "vincolo_budget = modello.addConstr(\n",
    "    gp.quicksum(costo[i] * x[i] for i in progetti) <= budget_disponibile,\n",
    "    name=\"Vincolo_Budget\"\n",
    ")\n",
    "\n",
    "print(\"\\n=== VINCOLO DI BUDGET ===\")\n",
    "print(f\"Σ Costo_i * x_i ≤ {budget_disponibile} k€\")\n",
    "print(\"\\nEsempio: Se selezioniamo P1, P3 e P5:\")\n",
    "print(f\"  Costo totale = {costo[1]} + {costo[3]} + {costo[5]} = {costo[1] + costo[3] + costo[5]} k€\")\n",
    "print(f\"  {'✓ OK' if costo[1] + costo[3] + costo[5] <= budget_disponibile else '✗ Viola il vincolo'}\")"
   ]
  },
  {
   "cell_type": "code",
   "execution_count": 9,
   "metadata": {},
   "outputs": [
    {
     "name": "stdout",
     "output_type": "stream",
     "text": [
      "\n",
      "=== VINCOLO DI RISORSE ===\n",
      "Σ Risorse_i * x_i ≤ 7 FTE\n",
      "\n",
      "Esempio: Se selezioniamo P1, P3 e P5:\n",
      "  Risorse totali = 3 + 4 + 2 = 9 FTE\n",
      "  ✗ Viola il vincolo\n"
     ]
    }
   ],
   "source": [
    "# VINCOLO 2: Risorse umane\n",
    "# La somma delle risorse necessarie non può superare le risorse disponibili\n",
    "vincolo_risorse = modello.addConstr(\n",
    "    gp.quicksum(risorse[i] * x[i] for i in progetti) <= risorse_disponibili,\n",
    "    name=\"Vincolo_Risorse\"\n",
    ")\n",
    "\n",
    "modello.update()\n",
    "\n",
    "print(\"\\n=== VINCOLO DI RISORSE ===\")\n",
    "print(f\"Σ Risorse_i * x_i ≤ {risorse_disponibili} FTE\")\n",
    "print(\"\\nEsempio: Se selezioniamo P1, P3 e P5:\")\n",
    "print(f\"  Risorse totali = {risorse[1]} + {risorse[3]} + {risorse[5]} = {risorse[1] + risorse[3] + risorse[5]} FTE\")\n",
    "print(f\"  {'✓ OK' if risorse[1] + risorse[3] + risorse[5] <= risorse_disponibili else '✗ Viola il vincolo'}\")"
   ]
  },
  {
   "cell_type": "markdown",
   "metadata": {},
   "source": [
    "### Step 8: Riepilogo del Modello"
   ]
  },
  {
   "cell_type": "code",
   "execution_count": 10,
   "metadata": {},
   "outputs": [
    {
     "name": "stdout",
     "output_type": "stream",
     "text": [
      "\n",
      "======================================================================\n",
      "                    RIEPILOGO MODELLO BIP\n",
      "======================================================================\n",
      "\n",
      "📊 VARIABILI:\n",
      "  Totali: 6\n",
      "  Tipo: Tutte BINARIE (0 o 1)\n",
      "\n",
      "🔗 VINCOLI:\n",
      "  Totali: 2\n",
      "  - Vincolo di budget: 1\n",
      "  - Vincolo di risorse: 1\n",
      "\n",
      "🎯 TIPO DI MODELLO: Binary Integer Programming (BIP)\n",
      "  Sottocategoria: Multidimensional Knapsack Problem\n",
      "  Complessità: NP-hard\n",
      "\n",
      "🔢 SPAZIO DI RICERCA:\n",
      "  Soluzioni possibili: 64\n",
      "  Soluzioni ammissibili: < 64 (molte violano vincoli)\n",
      "  Soluzioni ottime: 1 (quella che troveremo!)\n",
      "\n",
      "======================================================================\n"
     ]
    }
   ],
   "source": [
    "print(\"\\n\" + \"=\"*70)\n",
    "print(\"                    RIEPILOGO MODELLO BIP\")\n",
    "print(\"=\"*70)\n",
    "print(f\"\\n📊 VARIABILI:\")\n",
    "print(f\"  Totali: {modello.NumVars}\")\n",
    "print(f\"  Tipo: Tutte BINARIE (0 o 1)\")\n",
    "\n",
    "print(f\"\\n🔗 VINCOLI:\")\n",
    "print(f\"  Totali: {modello.NumConstrs}\")\n",
    "print(f\"  - Vincolo di budget: 1\")\n",
    "print(f\"  - Vincolo di risorse: 1\")\n",
    "\n",
    "print(f\"\\n🎯 TIPO DI MODELLO: Binary Integer Programming (BIP)\")\n",
    "print(f\"  Sottocategoria: Multidimensional Knapsack Problem\")\n",
    "print(f\"  Complessità: NP-hard\")\n",
    "\n",
    "print(f\"\\n🔢 SPAZIO DI RICERCA:\")\n",
    "print(f\"  Soluzioni possibili: {2**len(progetti)}\")\n",
    "print(f\"  Soluzioni ammissibili: < {2**len(progetti)} (molte violano vincoli)\")\n",
    "print(f\"  Soluzioni ottime: 1 (quella che troveremo!)\")\n",
    "print(\"\\n\" + \"=\"*70)"
   ]
  },
  {
   "cell_type": "markdown",
   "metadata": {},
   "source": [
    "## 🚀 Risoluzione del Modello"
   ]
  },
  {
   "cell_type": "code",
   "execution_count": 11,
   "metadata": {},
   "outputs": [
    {
     "name": "stdout",
     "output_type": "stream",
     "text": [
      "\n",
      "=== RISOLUZIONE IN CORSO ===\n",
      "Sto cercando la soluzione ottima...\n",
      "\n",
      "✅ SOLUZIONE OTTIMA TROVATA!\n",
      "\n",
      "Tempo di risoluzione: 0.0125 secondi\n",
      "Gap di ottimalità: 0.000000%\n",
      "Nodi esplorati: 1.0\n"
     ]
    }
   ],
   "source": [
    "# Risolviamo il modello\n",
    "print(\"\\n=== RISOLUZIONE IN CORSO ===\")\n",
    "print(\"Sto cercando la soluzione ottima...\\n\")\n",
    "\n",
    "modello.optimize()\n",
    "\n",
    "# Controlliamo lo stato della soluzione\n",
    "if modello.status == GRB.OPTIMAL:\n",
    "    print(\"✅ SOLUZIONE OTTIMA TROVATA!\")\n",
    "    print(f\"\\nTempo di risoluzione: {modello.Runtime:.4f} secondi\")\n",
    "    print(f\"Gap di ottimalità: {modello.MIPGap * 100:.6f}%\")\n",
    "    print(f\"Nodi esplorati: {modello.NodeCount}\")\n",
    "elif modello.status == GRB.INFEASIBLE:\n",
    "    print(\"❌ Il modello è INAMMISSIBILE\")\n",
    "elif modello.status == GRB.UNBOUNDED:\n",
    "    print(\"⚠️ Il modello è ILLIMITATO\")\n",
    "else:\n",
    "    print(f\"⚠️ Status: {modello.status}\")"
   ]
  },
  {
   "cell_type": "markdown",
   "metadata": {},
   "source": [
    "## 📊 Risultati della Soluzione Ottima"
   ]
  },
  {
   "cell_type": "code",
   "execution_count": 12,
   "metadata": {},
   "outputs": [
    {
     "name": "stdout",
     "output_type": "stream",
     "text": [
      "\n",
      "======================================================================\n",
      "                  PORTAFOGLIO PROGETTI OTTIMALE\n",
      "======================================================================\n",
      "\n",
      "💰 VAN TOTALE MASSIMO: 630 k€\n",
      "======================================================================\n",
      "\n",
      "✅ PROGETTI SELEZIONATI:\n",
      "----------------------------------------------------------------------\n",
      "  P1: VAN=250 k€, Costo=120 k€, Risorse=3 FTE, Durata=12 mesi\n",
      "  P2: VAN=180 k€, Costo= 80 k€, Risorse=2 FTE, Durata= 8 mesi\n",
      "  P4: VAN=200 k€, Costo=100 k€, Risorse=2 FTE, Durata=10 mesi\n",
      "\n",
      "❌ PROGETTI NON SELEZIONATI:\n",
      "----------------------------------------------------------------------\n",
      "  P3: VAN=320 k€, Costo=150 k€, Risorse=4 FTE, Durata=15 mesi\n",
      "  P5: VAN=150 k€, Costo= 70 k€, Risorse=2 FTE, Durata= 6 mesi\n",
      "  P6: VAN=280 k€, Costo=130 k€, Risorse=3 FTE, Durata=14 mesi\n",
      "\n",
      "📊 UTILIZZO RISORSE:\n",
      "======================================================================\n",
      "Budget:   300/300 k€ (100.0%)\n",
      "Risorse:    7/7 FTE (100.0%)\n",
      "\n",
      "Capacità residua:\n",
      "  Budget non utilizzato: 0 k€\n",
      "  Risorse non utilizzate: 0 FTE\n",
      "\n",
      "======================================================================\n"
     ]
    }
   ],
   "source": [
    "if modello.status == GRB.OPTIMAL:\n",
    "    # Salviamo la soluzione\n",
    "    soluzione = {i: x[i].X for i in progetti}\n",
    "    progetti_selezionati = [i for i in progetti if soluzione[i] > 0.5]\n",
    "    progetti_non_selezionati = [i for i in progetti if soluzione[i] < 0.5]\n",
    "    \n",
    "    # Metriche soluzione ottima\n",
    "    van_totale_ottimo = modello.ObjVal\n",
    "    budget_utilizzato = sum(costo[i] for i in progetti_selezionati)\n",
    "    risorse_utilizzate = sum(risorse[i] for i in progetti_selezionati)\n",
    "    \n",
    "    print(\"\\n\" + \"=\"*70)\n",
    "    print(\"                  PORTAFOGLIO PROGETTI OTTIMALE\")\n",
    "    print(\"=\"*70)\n",
    "    \n",
    "    print(f\"\\n💰 VAN TOTALE MASSIMO: {van_totale_ottimo:.0f} k€\")\n",
    "    print(\"=\"*70)\n",
    "    \n",
    "    print(\"\\n✅ PROGETTI SELEZIONATI:\")\n",
    "    print(\"-\" * 70)\n",
    "    for i in progetti_selezionati:\n",
    "        print(f\"  P{i}: VAN={van[i]:>3} k€, Costo={costo[i]:>3} k€, Risorse={risorse[i]} FTE, Durata={durata[i]:>2} mesi\")\n",
    "    \n",
    "    print(\"\\n❌ PROGETTI NON SELEZIONATI:\")\n",
    "    print(\"-\" * 70)\n",
    "    for i in progetti_non_selezionati:\n",
    "        print(f\"  P{i}: VAN={van[i]:>3} k€, Costo={costo[i]:>3} k€, Risorse={risorse[i]} FTE, Durata={durata[i]:>2} mesi\")\n",
    "    \n",
    "    print(\"\\n📊 UTILIZZO RISORSE:\")\n",
    "    print(\"=\"*70)\n",
    "    print(f\"Budget:   {budget_utilizzato:>3}/{budget_disponibile} k€ ({budget_utilizzato/budget_disponibile*100:.1f}%)\")\n",
    "    print(f\"Risorse:  {risorse_utilizzate:>3}/{risorse_disponibili} FTE ({risorse_utilizzate/risorse_disponibili*100:.1f}%)\")\n",
    "    \n",
    "    budget_residuo = budget_disponibile - budget_utilizzato\n",
    "    risorse_residue = risorse_disponibili - risorse_utilizzate\n",
    "    print(f\"\\nCapacità residua:\")\n",
    "    print(f\"  Budget non utilizzato: {budget_residuo} k€\")\n",
    "    print(f\"  Risorse non utilizzate: {risorse_residue} FTE\")\n",
    "    \n",
    "    print(\"\\n\" + \"=\"*70)"
   ]
  },
  {
   "cell_type": "code",
   "execution_count": 13,
   "metadata": {},
   "outputs": [
    {
     "name": "stdout",
     "output_type": "stream",
     "text": [
      "\n",
      "======================================================================\n",
      "         CONFRONTO: SOLUZIONE OTTIMA vs SOLUZIONI GREEDY\n",
      "======================================================================\n",
      "\n",
      "      Strategia   Progetti  VAN Totale (k€) Gap vs Ottimo % Ottimalità\n",
      "     Greedy VAN     P3, P6            600.0         30 k€        95.2%\n",
      "     Greedy ROI P2, P6, P5            610.0         20 k€        96.8%\n",
      " Greedy VAN/FTE P4, P6, P5            630.0          0 k€       100.0%\n",
      "OTTIMA (Gurobi) P1, P2, P4            630.0          0 k€       100.0%\n",
      "\n",
      "💡 OSSERVAZIONI:\n",
      "----------------------------------------------------------------------\n",
      "• Le euristiche greedy NON trovano la soluzione ottima!\n",
      "• Il solver Gurobi esplora lo spazio delle soluzioni in modo intelligente\n",
      "• Per problemi complessi, l'ottimizzazione è essenziale\n",
      "======================================================================\n"
     ]
    }
   ],
   "source": [
    "if modello.status == GRB.OPTIMAL:\n",
    "    print(\"\\n\" + \"=\"*70)\n",
    "    print(\"         CONFRONTO: SOLUZIONE OTTIMA vs SOLUZIONI GREEDY\")\n",
    "    print(\"=\"*70)\n",
    "    \n",
    "    risultati_confronto = pd.DataFrame({\n",
    "        'Strategia': ['Greedy VAN', 'Greedy ROI', 'Greedy VAN/FTE', 'OTTIMA (Gurobi)'],\n",
    "        'Progetti': [\n",
    "            ', '.join([f'P{p}' for p in selezionati_van]),\n",
    "            ', '.join([f'P{p}' for p in selezionati_roi]),\n",
    "            ', '.join([f'P{p}' for p in selezionati_fte]),\n",
    "            ', '.join([f'P{p}' for p in progetti_selezionati])\n",
    "        ],\n",
    "        'VAN Totale (k€)': [van_totale_1, van_totale_2, van_totale_3, van_totale_ottimo],\n",
    "        'Gap vs Ottimo': [\n",
    "            f\"{van_totale_ottimo - van_totale_1:.0f} k€\",\n",
    "            f\"{van_totale_ottimo - van_totale_2:.0f} k€\",\n",
    "            f\"{van_totale_ottimo - van_totale_3:.0f} k€\",\n",
    "            \"0 k€\"\n",
    "        ],\n",
    "        '% Ottimalità': [\n",
    "            f\"{van_totale_1/van_totale_ottimo*100:.1f}%\",\n",
    "            f\"{van_totale_2/van_totale_ottimo*100:.1f}%\",\n",
    "            f\"{van_totale_3/van_totale_ottimo*100:.1f}%\",\n",
    "            \"100.0%\"\n",
    "        ]\n",
    "    })\n",
    "    \n",
    "    print(\"\\n\" + risultati_confronto.to_string(index=False))\n",
    "    \n",
    "    print(\"\\n💡 OSSERVAZIONI:\")\n",
    "    print(\"-\" * 70)\n",
    "    if van_totale_1 < van_totale_ottimo or van_totale_2 < van_totale_ottimo or van_totale_3 < van_totale_ottimo:\n",
    "        print(\"• Le euristiche greedy NON trovano la soluzione ottima!\")\n",
    "        print(\"• Il solver Gurobi esplora lo spazio delle soluzioni in modo intelligente\")\n",
    "        print(\"• Per problemi complessi, l'ottimizzazione è essenziale\")\n",
    "    else:\n",
    "        print(\"• In questo caso, una delle euristiche greedy ha trovato l'ottimo\")\n",
    "        print(\"• Ma non è sempre così! Dipende dai dati del problema\")\n",
    "    \n",
    "    print(\"=\"*70)"
   ]
  },
  {
   "cell_type": "markdown",
   "metadata": {},
   "source": [
    "## 🧪 Esperimenti: Analisi What-If"
   ]
  },
  {
   "cell_type": "markdown",
   "metadata": {},
   "source": [
    "### Esperimento 1: Cosa succede con più budget?"
   ]
  },
  {
   "cell_type": "code",
   "execution_count": 16,
   "metadata": {},
   "outputs": [
    {
     "name": "stdout",
     "output_type": "stream",
     "text": [
      "\n",
      "======================================================================\n",
      "         SCENARIO: Budget aumentato a 350 k€ (+50 k€)\n",
      "======================================================================\n",
      "\n",
      "VAN originale (budget 300): 630 k€\n",
      "Nuovo VAN (budget 350): 660 k€\n",
      "Aumento VAN: 30 k€\n",
      "ROI investimento extra: 60.0%\n",
      "\n",
      "Progetti originali: ['P1', 'P2', 'P4']\n",
      "Progetti con budget maggiore: ['P2', 'P4', 'P6']\n",
      "\n",
      "➕ Progetti aggiunti: ['P6']\n",
      "======================================================================\n"
     ]
    }
   ],
   "source": [
    "# Aumentiamo il budget da 300 a 350 k€\n",
    "vincolo_budget.RHS = 350\n",
    "\n",
    "modello.optimize()\n",
    "\n",
    "if modello.status == GRB.OPTIMAL:\n",
    "    nuovi_selezionati = [i for i in progetti if x[i].X > 0.5]\n",
    "    nuovo_van = modello.ObjVal\n",
    "    \n",
    "    print(\"\\n\" + \"=\"*70)\n",
    "    print(\"         SCENARIO: Budget aumentato a 350 k€ (+50 k€)\")\n",
    "    print(\"=\"*70)\n",
    "    print(f\"\\nVAN originale (budget 300): {van_totale_ottimo:.0f} k€\")\n",
    "    print(f\"Nuovo VAN (budget 350): {nuovo_van:.0f} k€\")\n",
    "    print(f\"Aumento VAN: {nuovo_van - van_totale_ottimo:.0f} k€\")\n",
    "    print(f\"ROI investimento extra: {(nuovo_van - van_totale_ottimo)/50*100:.1f}%\")\n",
    "    \n",
    "    print(f\"\\nProgetti originali: {['P'+str(p) for p in progetti_selezionati]}\")\n",
    "    print(f\"Progetti con budget maggiore: {['P'+str(p) for p in nuovi_selezionati]}\")\n",
    "    \n",
    "    nuovi_progetti = set(nuovi_selezionati) - set(progetti_selezionati)\n",
    "    if nuovi_progetti:\n",
    "        print(f\"\\n➕ Progetti aggiunti: {['P'+str(p) for p in nuovi_progetti]}\")\n",
    "    \n",
    "    print(\"=\"*70)\n",
    "\n",
    "# Ripristino\n",
    "vincolo_budget.RHS = budget_disponibile\n",
    "modello.optimize()"
   ]
  },
  {
   "cell_type": "markdown",
   "metadata": {},
   "source": [
    "### Esperimento 2: Cosa succede con più risorse umane?"
   ]
  },
  {
   "cell_type": "code",
   "execution_count": 17,
   "metadata": {},
   "outputs": [
    {
     "name": "stdout",
     "output_type": "stream",
     "text": [
      "\n",
      "======================================================================\n",
      "         SCENARIO: Risorse aumentate a 9 FTE (+2 FTE)\n",
      "======================================================================\n",
      "\n",
      "VAN originale (7 FTE): 630 k€\n",
      "Nuovo VAN (9 FTE): 650 k€\n",
      "Aumento VAN: 20 k€\n",
      "Valore per FTE aggiuntivo: 10.0 k€/FTE\n",
      "\n",
      "Progetti originali: ['P1', 'P2', 'P4']\n",
      "Progetti con più risorse: ['P2', 'P3', 'P5']\n",
      "======================================================================\n"
     ]
    }
   ],
   "source": [
    "# Aumentiamo le risorse da 7 a 9 FTE\n",
    "vincolo_risorse.RHS = 9\n",
    "\n",
    "modello.optimize()\n",
    "\n",
    "if modello.status == GRB.OPTIMAL:\n",
    "    nuovi_selezionati = [i for i in progetti if x[i].X > 0.5]\n",
    "    nuovo_van = modello.ObjVal\n",
    "    \n",
    "    print(\"\\n\" + \"=\"*70)\n",
    "    print(\"         SCENARIO: Risorse aumentate a 9 FTE (+2 FTE)\")\n",
    "    print(\"=\"*70)\n",
    "    print(f\"\\nVAN originale (7 FTE): {van_totale_ottimo:.0f} k€\")\n",
    "    print(f\"Nuovo VAN (9 FTE): {nuovo_van:.0f} k€\")\n",
    "    print(f\"Aumento VAN: {nuovo_van - van_totale_ottimo:.0f} k€\")\n",
    "    print(f\"Valore per FTE aggiuntivo: {(nuovo_van - van_totale_ottimo)/2:.1f} k€/FTE\")\n",
    "    \n",
    "    print(f\"\\nProgetti originali: {['P'+str(p) for p in progetti_selezionati]}\")\n",
    "    print(f\"Progetti con più risorse: {['P'+str(p) for p in nuovi_selezionati]}\")\n",
    "    \n",
    "    print(\"=\"*70)\n",
    "\n",
    "# Ripristino\n",
    "vincolo_risorse.RHS = risorse_disponibili\n",
    "modello.optimize()"
   ]
  },
  {
   "cell_type": "markdown",
   "metadata": {},
   "source": [
    "### Esperimento 3: Aggiungere vincoli di dipendenza tra progetti"
   ]
  },
  {
   "cell_type": "code",
   "execution_count": 18,
   "metadata": {},
   "outputs": [
    {
     "name": "stdout",
     "output_type": "stream",
     "text": [
      "\n",
      "======================================================================\n",
      "   SCENARIO: P3 può essere fatto SOLO SE facciamo anche P1\n",
      "======================================================================\n",
      "\n",
      "VAN originale (senza dipendenze): 630 k€\n",
      "Nuovo VAN (con dipendenza P3→P1): 630 k€\n",
      "Differenza: 0 k€\n",
      "\n",
      "Progetti selezionati: ['P1', 'P2', 'P4']\n",
      "\n",
      "✓ P3 non è selezionato (il vincolo non impatta)\n",
      "\n",
      "💡 INTERPRETAZIONE:\n",
      "Il vincolo di dipendenza può cambiare la soluzione ottima,\n",
      "perché limita le combinazioni ammissibili di progetti.\n",
      "\n",
      "======================================================================\n"
     ]
    }
   ],
   "source": [
    "print(\"\\n\" + \"=\"*70)\n",
    "print(\"   SCENARIO: P3 può essere fatto SOLO SE facciamo anche P1\")\n",
    "print(\"=\"*70)\n",
    "\n",
    "# Aggiungiamo il vincolo: x_3 <= x_1\n",
    "# Se x_3 = 1 (facciamo P3), allora x_1 deve essere 1\n",
    "# Se x_1 = 0 (non facciamo P1), allora x_3 deve essere 0\n",
    "vincolo_dipendenza = modello.addConstr(\n",
    "    x[3] <= x[1],\n",
    "    name=\"P3_richiede_P1\"\n",
    ")\n",
    "\n",
    "modello.optimize()\n",
    "\n",
    "if modello.status == GRB.OPTIMAL:\n",
    "    nuovi_selezionati = [i for i in progetti if x[i].X > 0.5]\n",
    "    nuovo_van = modello.ObjVal\n",
    "    \n",
    "    print(f\"\\nVAN originale (senza dipendenze): {van_totale_ottimo:.0f} k€\")\n",
    "    print(f\"Nuovo VAN (con dipendenza P3→P1): {nuovo_van:.0f} k€\")\n",
    "    print(f\"Differenza: {nuovo_van - van_totale_ottimo:.0f} k€\")\n",
    "    \n",
    "    print(f\"\\nProgetti selezionati: {['P'+str(p) for p in nuovi_selezionati]}\")\n",
    "    \n",
    "    if 3 in nuovi_selezionati:\n",
    "        if 1 in nuovi_selezionati:\n",
    "            print(\"\\n✓ Vincolo rispettato: P3 è selezionato E P1 è selezionato\")\n",
    "        else:\n",
    "            print(\"\\n✗ ERRORE: P3 selezionato ma P1 no!\")\n",
    "    else:\n",
    "        print(\"\\n✓ P3 non è selezionato (il vincolo non impatta)\")\n",
    "    \n",
    "    print(\"\\n💡 INTERPRETAZIONE:\")\n",
    "    print(\"Il vincolo di dipendenza può cambiare la soluzione ottima,\")\n",
    "    print(\"perché limita le combinazioni ammissibili di progetti.\")\n",
    "\n",
    "# Rimuoviamo il vincolo\n",
    "modello.remove(vincolo_dipendenza)\n",
    "modello.optimize()\n",
    "print(\"\\n\" + \"=\"*70)"
   ]
  },
  {
   "cell_type": "markdown",
   "metadata": {},
   "source": [
    "### Esperimento 4: Mutua esclusività tra progetti"
   ]
  },
  {
   "cell_type": "code",
   "execution_count": 19,
   "metadata": {},
   "outputs": [
    {
     "name": "stdout",
     "output_type": "stream",
     "text": [
      "\n",
      "======================================================================\n",
      "   SCENARIO: P2 e P4 sono ALTERNATIVI (massimo 1 dei due)\n",
      "======================================================================\n",
      "\n",
      "VAN originale: 630 k€\n",
      "Nuovo VAN (con esclusività P2-P4): 630 k€\n",
      "Differenza: 0 k€\n",
      "\n",
      "Progetti selezionati: ['P4', 'P5', 'P6']\n",
      "\n",
      "✓ Vincolo rispettato: Solo P4 selezionato\n",
      "\n",
      "💡 INTERPRETAZIONE:\n",
      "I vincoli di mutua esclusività modellano alternative strategiche\n",
      "(es. due tecnologie concorrenti, progetti che usano stessa facility, ecc.)\n",
      "\n",
      "======================================================================\n"
     ]
    }
   ],
   "source": [
    "print(\"\\n\" + \"=\"*70)\n",
    "print(\"   SCENARIO: P2 e P4 sono ALTERNATIVI (massimo 1 dei due)\")\n",
    "print(\"=\"*70)\n",
    "\n",
    "# Aggiungiamo il vincolo: x_2 + x_4 <= 1\n",
    "vincolo_esclusivita = modello.addConstr(\n",
    "    x[2] + x[4] <= 1,\n",
    "    name=\"P2_OR_P4_non_entrambi\"\n",
    ")\n",
    "\n",
    "modello.optimize()\n",
    "\n",
    "if modello.status == GRB.OPTIMAL:\n",
    "    nuovi_selezionati = [i for i in progetti if x[i].X > 0.5]\n",
    "    nuovo_van = modello.ObjVal\n",
    "    \n",
    "    print(f\"\\nVAN originale: {van_totale_ottimo:.0f} k€\")\n",
    "    print(f\"Nuovo VAN (con esclusività P2-P4): {nuovo_van:.0f} k€\")\n",
    "    print(f\"Differenza: {nuovo_van - van_totale_ottimo:.0f} k€\")\n",
    "    \n",
    "    print(f\"\\nProgetti selezionati: {['P'+str(p) for p in nuovi_selezionati]}\")\n",
    "    \n",
    "    p2_sel = 2 in nuovi_selezionati\n",
    "    p4_sel = 4 in nuovi_selezionati\n",
    "    \n",
    "    if p2_sel and p4_sel:\n",
    "        print(\"\\n✗ ERRORE: Sia P2 che P4 sono selezionati!\")\n",
    "    elif p2_sel:\n",
    "        print(\"\\n✓ Vincolo rispettato: Solo P2 selezionato\")\n",
    "    elif p4_sel:\n",
    "        print(\"\\n✓ Vincolo rispettato: Solo P4 selezionato\")\n",
    "    else:\n",
    "        print(\"\\n✓ Nessuno dei due selezionato\")\n",
    "    \n",
    "    print(\"\\n💡 INTERPRETAZIONE:\")\n",
    "    print(\"I vincoli di mutua esclusività modellano alternative strategiche\")\n",
    "    print(\"(es. due tecnologie concorrenti, progetti che usano stessa facility, ecc.)\")\n",
    "\n",
    "# Rimuoviamo il vincolo\n",
    "modello.remove(vincolo_esclusivita)\n",
    "modello.optimize()\n",
    "print(\"\\n\" + \"=\"*70)"
   ]
  },
  {
   "cell_type": "markdown",
   "metadata": {},
   "source": [
    "### Esperimento 5: Numero minimo di progetti"
   ]
  },
  {
   "cell_type": "code",
   "execution_count": 20,
   "metadata": {},
   "outputs": [
    {
     "name": "stdout",
     "output_type": "stream",
     "text": [
      "\n",
      "======================================================================\n",
      "   SCENARIO: Dobbiamo fare ALMENO 3 progetti (diversificazione)\n",
      "======================================================================\n",
      "\n",
      "VAN originale: 630 k€ (3 progetti)\n",
      "Nuovo VAN (min 3 progetti): 630 k€ (3 progetti)\n",
      "Differenza: 0 k€\n",
      "\n",
      "Progetti selezionati: ['P4', 'P5', 'P6']\n",
      "\n",
      "✓ Vincolo rispettato: 3 progetti selezionati\n",
      "\n",
      "💡 INTERPRETAZIONE:\n",
      "La soluzione originale aveva già ≥3 progetti.\n",
      "Il vincolo non cambia la soluzione ottima.\n",
      "\n",
      "======================================================================\n"
     ]
    }
   ],
   "source": [
    "print(\"\\n\" + \"=\"*70)\n",
    "print(\"   SCENARIO: Dobbiamo fare ALMENO 3 progetti (diversificazione)\")\n",
    "print(\"=\"*70)\n",
    "\n",
    "# Aggiungiamo il vincolo: sum(x_i) >= 3\n",
    "vincolo_min_progetti = modello.addConstr(\n",
    "    gp.quicksum(x[i] for i in progetti) >= 3,\n",
    "    name=\"Min_3_progetti\"\n",
    ")\n",
    "\n",
    "modello.optimize()\n",
    "\n",
    "if modello.status == GRB.OPTIMAL:\n",
    "    nuovi_selezionati = [i for i in progetti if x[i].X > 0.5]\n",
    "    nuovo_van = modello.ObjVal\n",
    "    \n",
    "    print(f\"\\nVAN originale: {van_totale_ottimo:.0f} k€ ({len(progetti_selezionati)} progetti)\")\n",
    "    print(f\"Nuovo VAN (min 3 progetti): {nuovo_van:.0f} k€ ({len(nuovi_selezionati)} progetti)\")\n",
    "    print(f\"Differenza: {nuovo_van - van_totale_ottimo:.0f} k€\")\n",
    "    \n",
    "    print(f\"\\nProgetti selezionati: {['P'+str(p) for p in nuovi_selezionati]}\")\n",
    "    \n",
    "    if len(nuovi_selezionati) >= 3:\n",
    "        print(f\"\\n✓ Vincolo rispettato: {len(nuovi_selezionati)} progetti selezionati\")\n",
    "    else:\n",
    "        print(f\"\\n✗ ERRORE: Solo {len(nuovi_selezionati)} progetti!\")\n",
    "    \n",
    "    print(\"\\n💡 INTERPRETAZIONE:\")\n",
    "    if len(progetti_selezionati) < 3:\n",
    "        print(\"La soluzione originale aveva meno di 3 progetti.\")\n",
    "        print(\"Il vincolo ci obbliga a diversificare, riducendo leggermente il VAN.\")\n",
    "    else:\n",
    "        print(\"La soluzione originale aveva già ≥3 progetti.\")\n",
    "        print(\"Il vincolo non cambia la soluzione ottima.\")\n",
    "\n",
    "# Rimuoviamo il vincolo\n",
    "modello.remove(vincolo_min_progetti)\n",
    "modello.optimize()\n",
    "print(\"\\n\" + \"=\"*70)"
   ]
  },
  {
   "cell_type": "markdown",
   "metadata": {},
   "source": [
    "## 🔢 Analisi Enumerativa Completa\n",
    "\n",
    "Con 6 progetti, possiamo enumerare TUTTE le 64 combinazioni possibili!"
   ]
  },
  {
   "cell_type": "code",
   "execution_count": 21,
   "metadata": {},
   "outputs": [
    {
     "name": "stdout",
     "output_type": "stream",
     "text": [
      "\n",
      "======================================================================\n",
      "           ENUMERAZIONE COMPLETA DELLE SOLUZIONI\n",
      "======================================================================\n",
      "\n",
      "Totale combinazioni: 64\n",
      "Ammissibili: 28 (43.8%)\n",
      "Non ammissibili: 36 (56.2%)\n",
      "\n",
      "🏆 TOP 10 SOLUZIONI AMMISSIBILI:\n",
      "----------------------------------------------------------------------\n",
      "Rank  Progetti             VAN (k€)   Costo    Risorse\n",
      "----------------------------------------------------------------------\n",
      "⭐1   P1, P2, P4           630        300      7\n",
      "  2   P4, P5, P6           630        300      7\n",
      "  3   P2, P5, P6           610        280      7\n",
      "  4   P3, P6               600        280      7\n",
      "  5   P1, P4, P5           600        290      7\n",
      "  6   P1, P2, P5           580        270      7\n",
      "  7   P1, P3               570        270      7\n",
      "  8   P1, P6               530        250      6\n",
      "  9   P2, P4, P5           530        250      6\n",
      "  10  P3, P4               520        250      6\n",
      "\n",
      "⭐ = Soluzione trovata da Gurobi\n",
      "======================================================================\n"
     ]
    }
   ],
   "source": [
    "print(\"\\n\" + \"=\"*70)\n",
    "print(\"           ENUMERAZIONE COMPLETA DELLE SOLUZIONI\")\n",
    "print(\"=\"*70)\n",
    "\n",
    "# Generiamo tutte le combinazioni possibili\n",
    "tutte_soluzioni = []\n",
    "\n",
    "for r in range(len(progetti) + 1):\n",
    "    for combo in combinations(progetti, r):\n",
    "        # Calcola metriche\n",
    "        van_combo = sum(van[i] for i in combo)\n",
    "        costo_combo = sum(costo[i] for i in combo)\n",
    "        risorse_combo = sum(risorse[i] for i in combo)\n",
    "        \n",
    "        # Verifica ammissibilità\n",
    "        ammissibile = (costo_combo <= budget_disponibile and \n",
    "                      risorse_combo <= risorse_disponibili)\n",
    "        \n",
    "        tutte_soluzioni.append({\n",
    "            'Progetti': combo,\n",
    "            'N_progetti': len(combo),\n",
    "            'VAN': van_combo,\n",
    "            'Costo': costo_combo,\n",
    "            'Risorse': risorse_combo,\n",
    "            'Ammissibile': ammissibile\n",
    "        })\n",
    "\n",
    "# Ordina per VAN decrescente\n",
    "tutte_soluzioni.sort(key=lambda x: x['VAN'], reverse=True)\n",
    "\n",
    "# Statistiche\n",
    "num_ammissibili = sum(1 for s in tutte_soluzioni if s['Ammissibile'])\n",
    "num_non_ammissibili = len(tutte_soluzioni) - num_ammissibili\n",
    "\n",
    "print(f\"\\nTotale combinazioni: {len(tutte_soluzioni)}\")\n",
    "print(f\"Ammissibili: {num_ammissibili} ({num_ammissibili/len(tutte_soluzioni)*100:.1f}%)\")\n",
    "print(f\"Non ammissibili: {num_non_ammissibili} ({num_non_ammissibili/len(tutte_soluzioni)*100:.1f}%)\")\n",
    "\n",
    "print(\"\\n🏆 TOP 10 SOLUZIONI AMMISSIBILI:\")\n",
    "print(\"-\" * 70)\n",
    "print(f\"{'Rank':<5} {'Progetti':<20} {'VAN (k€)':<10} {'Costo':<8} {'Risorse'}\")\n",
    "print(\"-\" * 70)\n",
    "\n",
    "rank = 1\n",
    "for sol in tutte_soluzioni:\n",
    "    if sol['Ammissibile'] and rank <= 10:\n",
    "        progetti_str = ', '.join([f'P{p}' for p in sol['Progetti']]) if sol['Progetti'] else 'Nessuno'\n",
    "        marker = '⭐' if tuple(sol['Progetti']) == tuple(progetti_selezionati) else '  '\n",
    "        print(f\"{marker}{rank:<3} {progetti_str:<20} {sol['VAN']:<10} {sol['Costo']:<8} {sol['Risorse']}\")\n",
    "        rank += 1\n",
    "\n",
    "print(\"\\n⭐ = Soluzione trovata da Gurobi\")\n",
    "print(\"=\"*70)"
   ]
  },
  {
   "cell_type": "markdown",
   "metadata": {},
   "source": [
    "## 📝 Esportazione del Modello"
   ]
  },
  {
   "cell_type": "code",
   "execution_count": null,
   "metadata": {},
   "outputs": [],
   "source": [
    "# Esportiamo il modello\n",
    "modello.write(\"selezione_progetti_knapsack.lp\")\n",
    "print(\"\\n✅ Modello esportato in 'selezione_progetti_knapsack.lp'\")\n",
    "\n",
    "# Esportiamo la soluzione\n",
    "modello.write(\"selezione_progetti_soluzione.sol\")\n",
    "print(\"✅ Soluzione esportata in 'selezione_progetti_soluzione.sol'\")"
   ]
  }
 ],
 "metadata": {
  "kernelspec": {
   "display_name": "virtualenv",
   "language": "python",
   "name": "python3"
  },
  "language_info": {
   "codemirror_mode": {
    "name": "ipython",
    "version": 3
   },
   "file_extension": ".py",
   "mimetype": "text/x-python",
   "name": "python",
   "nbconvert_exporter": "python",
   "pygments_lexer": "ipython3",
   "version": "3.13.7"
  }
 },
 "nbformat": 4,
 "nbformat_minor": 4
}
