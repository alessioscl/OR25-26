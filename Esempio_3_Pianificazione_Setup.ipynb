{
 "cells": [
  {
   "cell_type": "markdown",
   "metadata": {},
   "source": [
    "# Esempio 3: Pianificazione Produzione con Setup\n",
    "\n",
    "## Ricerca Operativa - Programmazione Lineare Intera Mista (MILP)\n",
    "\n",
    "**Obiettivo**: Imparare a modellare decisioni binarie e vincoli logici (Big-M) per problemi di pianificazione con costi fissi.\n",
    "\n",
    "---"
   ]
  },
  {
   "cell_type": "markdown",
   "metadata": {},
   "source": [
    "## 📋 Descrizione del Problema\n",
    "\n",
    "Un'azienda deve pianificare la produzione di **3 prodotti** su **4 settimane**.\n",
    "\n",
    "### 💡 Novità: Costi di Setup\n",
    "\n",
    "**Ogni volta che si decide di produrre un prodotto in una settimana, si deve pagare un COSTO FISSO di setup** (preparazione macchinari, cambio linea, ecc.), indipendentemente dalla quantità prodotta.\n",
    "\n",
    "### Dati del problema:\n",
    "\n",
    "| Prodotto | Costo Prod. (€/u) | Costo Setup (€) | Capacità (u/sett) |\n",
    "|----------|-------------------|-----------------|-------------------|\n",
    "| P1       | 20                | 500             | 100               |\n",
    "| P2       | 25                | 700             | 80                |\n",
    "| P3       | 30                | 600             | 90                |\n",
    "\n",
    "**Costo magazzino**: 2€/unità/settimana (per tenere prodotti in stock)\n",
    "\n",
    "### Domanda prevista (unità):\n",
    "\n",
    "|           | Settimana 1 | Settimana 2 | Settimana 3 | Settimana 4 |\n",
    "|-----------|-------------|-------------|-------------|-------------|\n",
    "| Prodotto 1| 50          | 60          | 40          | 70          |\n",
    "| Prodotto 2| 40          | 50          | 30          | 50          |\n",
    "| Prodotto 3| 30          | 40          | 50          | 45          |\n",
    "\n",
    "### Vincoli:\n",
    "- **Inventario iniziale** = 0 per tutti i prodotti\n",
    "- **Inventario finale** = 0 per tutti i prodotti  \n",
    "- La **domanda** di ogni settimana deve essere soddisfatta\n",
    "\n",
    "### Obiettivo:\n",
    "**Minimizzare i costi totali** = costi di produzione + costi di setup + costi di magazzino\n",
    "\n",
    "### 🎯 Domanda chiave:\n",
    "**Quando conviene produrre?** \n",
    "- Produrre solo quando serve (just-in-time) → meno magazzino ma più setup\n",
    "- Produrre in anticipo per più settimane → meno setup ma più magazzino"
   ]
  },
  {
   "cell_type": "markdown",
   "metadata": {},
   "source": [
    "## 📐 Modello Matematico\n",
    "\n",
    "### Insiemi:\n",
    "- $P = \\{1, 2, 3\\}$ = insieme dei prodotti\n",
    "- $T = \\{1, 2, 3, 4\\}$ = insieme delle settimane\n",
    "\n",
    "### Parametri:\n",
    "- $c_p^{prod}$ = costo unitario di produzione del prodotto $p$ (€/unità)\n",
    "- $c_p^{setup}$ = costo fisso di setup del prodotto $p$ (€)\n",
    "- $c^{inv}$ = costo di magazzino (€/unità/settimana)\n",
    "- $\\text{cap}_p$ = capacità produttiva settimanale del prodotto $p$ (unità)\n",
    "- $d_{pt}$ = domanda del prodotto $p$ nella settimana $t$ (unità)\n",
    "\n",
    "### Variabili decisionali:\n",
    "\n",
    "**Variabili continue:**\n",
    "- $x_{pt} \\geq 0$ = quantità del prodotto $p$ prodotta nella settimana $t$\n",
    "- $I_{pt} \\geq 0$ = inventario del prodotto $p$ alla fine della settimana $t$\n",
    "\n",
    "**Variabili binarie (NOVITÀ!):**\n",
    "- $y_{pt} \\in \\{0, 1\\}$ = 1 se produciamo il prodotto $p$ nella settimana $t$, 0 altrimenti\n",
    "\n",
    "### Funzione obiettivo:\n",
    "$$\\min z = \\sum_{p \\in P} \\sum_{t \\in T} \\left( c_p^{prod} \\cdot x_{pt} + c_p^{setup} \\cdot y_{pt} + c^{inv} \\cdot I_{pt} \\right)$$\n",
    "\n",
    "### Vincoli:\n",
    "\n",
    "**1. Bilanciamento inventario:**\n",
    "$$I_{p,t-1} + x_{pt} = d_{pt} + I_{pt} \\quad \\forall p \\in P, t \\in T$$\n",
    "\n",
    "**2. Inventario iniziale e finale:**\n",
    "$$I_{p,0} = 0 \\quad \\forall p \\in P$$\n",
    "$$I_{p,4} = 0 \\quad \\forall p \\in P$$\n",
    "\n",
    "**3. Collegamento produzione-setup (Big-M):**\n",
    "$$x_{pt} \\leq \\text{cap}_p \\cdot y_{pt} \\quad \\forall p \\in P, t \\in T$$\n",
    "\n",
    "**Spiegazione Big-M:**\n",
    "- Se $y_{pt} = 0$ (non produciamo) → $x_{pt} \\leq 0$ → $x_{pt} = 0$\n",
    "- Se $y_{pt} = 1$ (produciamo) → $x_{pt} \\leq \\text{cap}_p$ (capacità normale)\n",
    "\n",
    "**4. Non negatività:**\n",
    "$$x_{pt}, I_{pt} \\geq 0 \\quad \\forall p, t$$\n",
    "$$y_{pt} \\in \\{0, 1\\} \\quad \\forall p, t$$"
   ]
  },
  {
   "cell_type": "markdown",
   "metadata": {},
   "source": [
    "## 💻 Implementazione in Gurobi\n",
    "\n",
    "### Step 1: Import e Setup"
   ]
  },
  {
   "cell_type": "code",
   "execution_count": 1,
   "metadata": {},
   "outputs": [
    {
     "name": "stdout",
     "output_type": "stream",
     "text": [
      "Librerie importate con successo!\n",
      "Versione Gurobi: (12, 0, 3)\n"
     ]
    }
   ],
   "source": [
    "# Import delle librerie necessarie\n",
    "import gurobipy as gp\n",
    "from gurobipy import GRB\n",
    "import pandas as pd\n",
    "import numpy as np\n",
    "import matplotlib.pyplot as plt\n",
    "import seaborn as sns\n",
    "\n",
    "%matplotlib inline\n",
    "\n",
    "# Stile grafici\n",
    "sns.set_style(\"whitegrid\")\n",
    "plt.rcParams['figure.figsize'] = (12, 6)\n",
    "\n",
    "print(\"Librerie importate con successo!\")\n",
    "print(f\"Versione Gurobi: {gp.gurobi.version()}\")"
   ]
  },
  {
   "cell_type": "markdown",
   "metadata": {},
   "source": [
    "### Step 2: Definizione dei Dati del Problema"
   ]
  },
  {
   "cell_type": "code",
   "execution_count": 2,
   "metadata": {},
   "outputs": [
    {
     "name": "stdout",
     "output_type": "stream",
     "text": [
      "\n",
      "=== DATI DEL PROBLEMA ===\n",
      "\n",
      "Numero prodotti: 3\n",
      "Orizzonte temporale: 4 settimane\n",
      "Costo magazzino: 2€/unità/settimana\n"
     ]
    }
   ],
   "source": [
    "# Insiemi\n",
    "prodotti = [1, 2, 3]\n",
    "settimane = [1, 2, 3, 4]\n",
    "\n",
    "# Costi di produzione unitari (€/unità)\n",
    "costo_produzione = {\n",
    "    1: 20,\n",
    "    2: 25,\n",
    "    3: 30\n",
    "}\n",
    "\n",
    "# Costi fissi di setup (€)\n",
    "costo_setup = {\n",
    "    1: 500,\n",
    "    2: 700,\n",
    "    3: 600\n",
    "}\n",
    "\n",
    "# Capacità produttive (unità/settimana)\n",
    "capacita = {\n",
    "    1: 100,\n",
    "    2: 80,\n",
    "    3: 90\n",
    "}\n",
    "\n",
    "# Costo di magazzino (€/unità/settimana)\n",
    "costo_magazzino = 2\n",
    "\n",
    "# Domanda per prodotto e settimana (unità)\n",
    "domanda = {\n",
    "    (1, 1): 50, (1, 2): 60, (1, 3): 40, (1, 4): 70,\n",
    "    (2, 1): 40, (2, 2): 50, (2, 3): 30, (2, 4): 50,\n",
    "    (3, 1): 30, (3, 2): 40, (3, 3): 50, (3, 4): 45\n",
    "}\n",
    "\n",
    "print(\"\\n=== DATI DEL PROBLEMA ===\")\n",
    "print(f\"\\nNumero prodotti: {len(prodotti)}\")\n",
    "print(f\"Orizzonte temporale: {len(settimane)} settimane\")\n",
    "print(f\"Costo magazzino: {costo_magazzino}€/unità/settimana\")"
   ]
  },
  {
   "cell_type": "code",
   "execution_count": 3,
   "metadata": {},
   "outputs": [
    {
     "name": "stdout",
     "output_type": "stream",
     "text": [
      "\n",
      "=== COSTI E CAPACITÀ PER PRODOTTO ===\n",
      "Prodotto  Costo Prod. (€/u)  Costo Setup (€)  Capacità (u/sett)\n",
      "      P1                 20              500                100\n",
      "      P2                 25              700                 80\n",
      "      P3                 30              600                 90\n",
      "\n",
      "=== DOMANDA PER PRODOTTO E SETTIMANA ===\n",
      "Prodotto  Sett.1  Sett.2  Sett.3  Sett.4  TOTALE\n",
      "      P1      50      60      40      70     220\n",
      "      P2      40      50      30      50     170\n",
      "      P3      30      40      50      45     165\n",
      "\n",
      "=== STATISTICHE DOMANDA ===\n",
      "Prodotto 1: Totale = 220 unità, Media = 55.0 unità/settimana\n",
      "Prodotto 2: Totale = 170 unità, Media = 42.5 unità/settimana\n",
      "Prodotto 3: Totale = 165 unità, Media = 41.2 unità/settimana\n"
     ]
    }
   ],
   "source": [
    "# Visualizzazione tabellare dei dati\n",
    "print(\"\\n=== COSTI E CAPACITÀ PER PRODOTTO ===\")\n",
    "df_prodotti = pd.DataFrame({\n",
    "    'Prodotto': [f'P{p}' for p in prodotti],\n",
    "    'Costo Prod. (€/u)': [costo_produzione[p] for p in prodotti],\n",
    "    'Costo Setup (€)': [costo_setup[p] for p in prodotti],\n",
    "    'Capacità (u/sett)': [capacita[p] for p in prodotti]\n",
    "})\n",
    "print(df_prodotti.to_string(index=False))\n",
    "\n",
    "print(\"\\n=== DOMANDA PER PRODOTTO E SETTIMANA ===\")\n",
    "# Creiamo un DataFrame pivot per la domanda\n",
    "domanda_data = []\n",
    "for p in prodotti:\n",
    "    row = {'Prodotto': f'P{p}'}\n",
    "    for t in settimane:\n",
    "        row[f'Sett.{t}'] = domanda[p, t]\n",
    "    row['TOTALE'] = sum(domanda[p, t] for t in settimane)\n",
    "    domanda_data.append(row)\n",
    "\n",
    "df_domanda = pd.DataFrame(domanda_data)\n",
    "print(df_domanda.to_string(index=False))\n",
    "\n",
    "# Statistiche\n",
    "print(\"\\n=== STATISTICHE DOMANDA ===\")\n",
    "for p in prodotti:\n",
    "    totale = sum(domanda[p, t] for t in settimane)\n",
    "    media = totale / len(settimane)\n",
    "    print(f\"Prodotto {p}: Totale = {totale} unità, Media = {media:.1f} unità/settimana\")"
   ]
  },
  {
   "cell_type": "markdown",
   "metadata": {},
   "source": [
    "### Step 3: Creazione del Modello Gurobi"
   ]
  },
  {
   "cell_type": "code",
   "execution_count": 4,
   "metadata": {},
   "outputs": [
    {
     "name": "stdout",
     "output_type": "stream",
     "text": [
      "Set parameter Username\n",
      "Set parameter LicenseID to value 2704465\n",
      "Academic license - for non-commercial use only - expires 2026-09-08\n",
      "Modello MILP creato con successo!\n"
     ]
    }
   ],
   "source": [
    "# Creiamo il modello\n",
    "modello = gp.Model(\"Pianificazione_Setup\")\n",
    "\n",
    "# Opzionale: output silenzioso\n",
    "modello.Params.OutputFlag = 0\n",
    "\n",
    "print(\"Modello MILP creato con successo!\")"
   ]
  },
  {
   "cell_type": "markdown",
   "metadata": {},
   "source": [
    "### Step 4: Definizione delle Variabili Decisionali\n",
    "\n",
    "Abbiamo **3 tipi** di variabili!"
   ]
  },
  {
   "cell_type": "code",
   "execution_count": 5,
   "metadata": {},
   "outputs": [
    {
     "name": "stdout",
     "output_type": "stream",
     "text": [
      "\n",
      "=== VARIABILI CONTINUE DEFINITE ===\n",
      "x[p,t]: 12 variabili (quantità prodotte)\n",
      "I[p,t]: 12 variabili (inventario)\n"
     ]
    }
   ],
   "source": [
    "# VARIABILI CONTINUE\n",
    "\n",
    "# x[p,t] = quantità del prodotto p prodotta nella settimana t\n",
    "x = {}\n",
    "for p in prodotti:\n",
    "    for t in settimane:\n",
    "        x[p, t] = modello.addVar(\n",
    "            lb=0,\n",
    "            vtype=GRB.CONTINUOUS,\n",
    "            name=f\"x_P{p}_S{t}\"\n",
    "        )\n",
    "\n",
    "# I[p,t] = inventario del prodotto p alla fine della settimana t\n",
    "I = {}\n",
    "for p in prodotti:\n",
    "    for t in settimane:\n",
    "        I[p, t] = modello.addVar(\n",
    "            lb=0,\n",
    "            vtype=GRB.CONTINUOUS,\n",
    "            name=f\"I_P{p}_S{t}\"\n",
    "        )\n",
    "\n",
    "print(\"\\n=== VARIABILI CONTINUE DEFINITE ===\")\n",
    "print(f\"x[p,t]: {len(prodotti) * len(settimane)} variabili (quantità prodotte)\")\n",
    "print(f\"I[p,t]: {len(prodotti) * len(settimane)} variabili (inventario)\")"
   ]
  },
  {
   "cell_type": "code",
   "execution_count": 6,
   "metadata": {},
   "outputs": [
    {
     "name": "stdout",
     "output_type": "stream",
     "text": [
      "\n",
      "=== VARIABILI BINARIE DEFINITE ===\n",
      "y[p,t]: 12 variabili (decisioni di setup)\n",
      "\n",
      "Queste variabili possono assumere solo valori 0 o 1:\n",
      "  y[p,t] = 1 → Produciamo il prodotto p nella settimana t (paghiamo setup)\n",
      "  y[p,t] = 0 → NON produciamo il prodotto p nella settimana t\n",
      "\n",
      "✓ TOTALE VARIABILI: 36\n",
      "  - Continue: 24\n",
      "  - Binarie: 12\n"
     ]
    }
   ],
   "source": [
    "# VARIABILI BINARIE (NOVITÀ!)\n",
    "\n",
    "# y[p,t] = 1 se produciamo il prodotto p nella settimana t, 0 altrimenti\n",
    "y = {}\n",
    "for p in prodotti:\n",
    "    for t in settimane:\n",
    "        y[p, t] = modello.addVar(\n",
    "            vtype=GRB.BINARY,  # ← TIPO BINARIO!\n",
    "            name=f\"y_P{p}_S{t}\"\n",
    "        )\n",
    "\n",
    "modello.update()\n",
    "\n",
    "print(\"\\n=== VARIABILI BINARIE DEFINITE ===\")\n",
    "print(f\"y[p,t]: {len(prodotti) * len(settimane)} variabili (decisioni di setup)\")\n",
    "print(\"\\nQueste variabili possono assumere solo valori 0 o 1:\")\n",
    "print(\"  y[p,t] = 1 → Produciamo il prodotto p nella settimana t (paghiamo setup)\")\n",
    "print(\"  y[p,t] = 0 → NON produciamo il prodotto p nella settimana t\")\n",
    "\n",
    "print(f\"\\n✓ TOTALE VARIABILI: {modello.NumVars}\")\n",
    "print(f\"  - Continue: {len(prodotti) * len(settimane) * 2}\")\n",
    "print(f\"  - Binarie: {len(prodotti) * len(settimane)}\")"
   ]
  },
  {
   "cell_type": "markdown",
   "metadata": {},
   "source": [
    "### Step 5: Definizione della Funzione Obiettivo\n",
    "\n",
    "Tre componenti di costo da minimizzare!"
   ]
  },
  {
   "cell_type": "code",
   "execution_count": 7,
   "metadata": {},
   "outputs": [
    {
     "name": "stdout",
     "output_type": "stream",
     "text": [
      "\n",
      "=== FUNZIONE OBIETTIVO ===\n",
      "Minimizza: Costo Produzione + Costo Setup + Costo Magazzino\n",
      "\n",
      "Componenti:\n",
      "  1. Σ c_p^prod * x_pt  (costo produzione)\n",
      "  2. Σ c_p^setup * y_pt (costo setup - dipende dalle variabili binarie!)\n",
      "  3. Σ c^inv * I_pt      (costo magazzino)\n"
     ]
    }
   ],
   "source": [
    "# Componente 1: Costi di produzione\n",
    "costo_prod_totale = gp.quicksum(\n",
    "    costo_produzione[p] * x[p, t]\n",
    "    for p in prodotti\n",
    "    for t in settimane\n",
    ")\n",
    "\n",
    "# Componente 2: Costi di setup\n",
    "costo_setup_totale = gp.quicksum(\n",
    "    costo_setup[p] * y[p, t]  # ← Moltiplico il costo fisso per la variabile binaria!\n",
    "    for p in prodotti\n",
    "    for t in settimane\n",
    ")\n",
    "\n",
    "# Componente 3: Costi di magazzino\n",
    "costo_inventario_totale = gp.quicksum(\n",
    "    costo_magazzino * I[p, t]\n",
    "    for p in prodotti\n",
    "    for t in settimane\n",
    ")\n",
    "\n",
    "# Funzione obiettivo totale\n",
    "funzione_obiettivo = costo_prod_totale + costo_setup_totale + costo_inventario_totale\n",
    "\n",
    "modello.setObjective(funzione_obiettivo, GRB.MINIMIZE)\n",
    "\n",
    "print(\"\\n=== FUNZIONE OBIETTIVO ===\")\n",
    "print(\"Minimizza: Costo Produzione + Costo Setup + Costo Magazzino\")\n",
    "print(\"\\nComponenti:\")\n",
    "print(\"  1. Σ c_p^prod * x_pt  (costo produzione)\")\n",
    "print(\"  2. Σ c_p^setup * y_pt (costo setup - dipende dalle variabili binarie!)\")\n",
    "print(\"  3. Σ c^inv * I_pt      (costo magazzino)\")"
   ]
  },
  {
   "cell_type": "markdown",
   "metadata": {},
   "source": [
    "### Step 6: Aggiunta dei Vincoli"
   ]
  },
  {
   "cell_type": "code",
   "execution_count": 8,
   "metadata": {},
   "outputs": [
    {
     "name": "stdout",
     "output_type": "stream",
     "text": [
      "\n",
      "=== VINCOLI DI BILANCIAMENTO INVENTARIO ===\n",
      "Aggiunti 12 vincoli\n",
      "\n",
      "Formula: Inventario precedente + Produzione = Domanda + Inventario finale\n",
      "         I[p,t-1] + x[p,t] = d[p,t] + I[p,t]\n"
     ]
    }
   ],
   "source": [
    "# VINCOLO 1: Bilanciamento inventario\n",
    "# I[p,t-1] + x[p,t] = domanda[p,t] + I[p,t]\n",
    "\n",
    "vincoli_inventario = {}\n",
    "for p in prodotti:\n",
    "    for t in settimane:\n",
    "        if t == 1:\n",
    "            # Prima settimana: inventario iniziale = 0\n",
    "            vincoli_inventario[p, t] = modello.addConstr(\n",
    "                x[p, t] == domanda[p, t] + I[p, t],\n",
    "                name=f\"Inventario_P{p}_S{t}\"\n",
    "            )\n",
    "        else:\n",
    "            # Settimane successive\n",
    "            vincoli_inventario[p, t] = modello.addConstr(\n",
    "                I[p, t-1] + x[p, t] == domanda[p, t] + I[p, t],\n",
    "                name=f\"Inventario_P{p}_S{t}\"\n",
    "            )\n",
    "\n",
    "print(\"\\n=== VINCOLI DI BILANCIAMENTO INVENTARIO ===\")\n",
    "print(f\"Aggiunti {len(vincoli_inventario)} vincoli\")\n",
    "print(\"\\nFormula: Inventario precedente + Produzione = Domanda + Inventario finale\")\n",
    "print(\"         I[p,t-1] + x[p,t] = d[p,t] + I[p,t]\")"
   ]
  },
  {
   "cell_type": "code",
   "execution_count": 9,
   "metadata": {},
   "outputs": [
    {
     "name": "stdout",
     "output_type": "stream",
     "text": [
      "\n",
      "=== VINCOLI INVENTARIO FINALE ===\n",
      "Aggiunti 3 vincoli\n",
      "Alla fine della settimana 4, tutto l'inventario deve essere zero\n"
     ]
    }
   ],
   "source": [
    "# VINCOLO 2: Inventario finale = 0\n",
    "# Alla fine dell'orizzonte, l'inventario deve essere zero\n",
    "\n",
    "vincoli_inventario_finale = {}\n",
    "for p in prodotti:\n",
    "    vincoli_inventario_finale[p] = modello.addConstr(\n",
    "        I[p, settimane[-1]] == 0,\n",
    "        name=f\"Inventario_Finale_P{p}\"\n",
    "    )\n",
    "\n",
    "print(\"\\n=== VINCOLI INVENTARIO FINALE ===\")\n",
    "print(f\"Aggiunti {len(vincoli_inventario_finale)} vincoli\")\n",
    "print(\"Alla fine della settimana 4, tutto l'inventario deve essere zero\")"
   ]
  },
  {
   "cell_type": "code",
   "execution_count": 10,
   "metadata": {},
   "outputs": [
    {
     "name": "stdout",
     "output_type": "stream",
     "text": [
      "\n",
      "=== VINCOLI BIG-M (PRODUZIONE-SETUP) ===\n",
      "Aggiunti 12 vincoli\n",
      "\n",
      "Formula: x[p,t] <= capacita[p] * y[p,t]\n",
      "\n",
      "💡 SPIEGAZIONE DEL VINCOLO BIG-M:\n",
      "----------------------------------------------------------------------\n",
      "Se y[p,t] = 0 (non produciamo):\n",
      "  → x[p,t] <= capacita[p] * 0 = 0\n",
      "  → x[p,t] deve essere 0 (non possiamo produrre)\n",
      "\n",
      "Se y[p,t] = 1 (produciamo):\n",
      "  → x[p,t] <= capacita[p] * 1 = capacita[p]\n",
      "  → x[p,t] può essere qualsiasi valore fino alla capacità\n",
      "\n",
      "🎯 EFFETTO: Se produciamo anche solo 1 unità, dobbiamo\n",
      "   mettere y[p,t]=1 e pagare il costo fisso di setup!\n",
      "----------------------------------------------------------------------\n"
     ]
    }
   ],
   "source": [
    "# VINCOLO 3: Collegamento Produzione-Setup (BIG-M)\n",
    "# x[p,t] <= capacita[p] * y[p,t]\n",
    "#\n",
    "# Questo è il vincolo CHIAVE che collega le variabili continue alle binarie!\n",
    "\n",
    "vincoli_bigM = {}\n",
    "for p in prodotti:\n",
    "    for t in settimane:\n",
    "        vincoli_bigM[p, t] = modello.addConstr(\n",
    "            x[p, t] <= capacita[p] * y[p, t],\n",
    "            name=f\"BigM_P{p}_S{t}\"\n",
    "        )\n",
    "\n",
    "modello.update()\n",
    "\n",
    "print(\"\\n=== VINCOLI BIG-M (PRODUZIONE-SETUP) ===\")\n",
    "print(f\"Aggiunti {len(vincoli_bigM)} vincoli\")\n",
    "print(\"\\nFormula: x[p,t] <= capacita[p] * y[p,t]\")\n",
    "print(\"\\n💡 SPIEGAZIONE DEL VINCOLO BIG-M:\")\n",
    "print(\"-\" * 70)\n",
    "print(\"Se y[p,t] = 0 (non produciamo):\")\n",
    "print(\"  → x[p,t] <= capacita[p] * 0 = 0\")\n",
    "print(\"  → x[p,t] deve essere 0 (non possiamo produrre)\")\n",
    "print(\"\\nSe y[p,t] = 1 (produciamo):\")\n",
    "print(\"  → x[p,t] <= capacita[p] * 1 = capacita[p]\")\n",
    "print(\"  → x[p,t] può essere qualsiasi valore fino alla capacità\")\n",
    "print(\"\\n🎯 EFFETTO: Se produciamo anche solo 1 unità, dobbiamo\")\n",
    "print(\"   mettere y[p,t]=1 e pagare il costo fisso di setup!\")\n",
    "print(\"-\" * 70)"
   ]
  },
  {
   "cell_type": "markdown",
   "metadata": {},
   "source": [
    "### Step 7: Riepilogo del Modello"
   ]
  },
  {
   "cell_type": "code",
   "execution_count": 11,
   "metadata": {},
   "outputs": [
    {
     "name": "stdout",
     "output_type": "stream",
     "text": [
      "\n",
      "======================================================================\n",
      "                      RIEPILOGO MODELLO MILP\n",
      "======================================================================\n",
      "\n",
      "📊 VARIABILI:\n",
      "  Totali: 36\n",
      "  - Continue: 24 (produzione + inventario)\n",
      "  - Binarie: 12 (decisioni di setup)\n",
      "\n",
      "🔗 VINCOLI:\n",
      "  Totali: 27\n",
      "  - Bilanciamento inventario: 12\n",
      "  - Inventario finale: 3\n",
      "  - Big-M (produzione-setup): 12\n",
      "\n",
      "🎯 TIPO DI MODELLO: Mixed-Integer Linear Programming (MILP)\n",
      "  La presenza di variabili binarie rende il problema più complesso\n",
      "  rispetto a un normale LP!\n",
      "\n",
      "======================================================================\n"
     ]
    }
   ],
   "source": [
    "print(\"\\n\" + \"=\"*70)\n",
    "print(\"                      RIEPILOGO MODELLO MILP\")\n",
    "print(\"=\"*70)\n",
    "print(f\"\\n📊 VARIABILI:\")\n",
    "print(f\"  Totali: {modello.NumVars}\")\n",
    "print(f\"  - Continue: {len(prodotti) * len(settimane) * 2} (produzione + inventario)\")\n",
    "print(f\"  - Binarie: {len(prodotti) * len(settimane)} (decisioni di setup)\")\n",
    "\n",
    "print(f\"\\n🔗 VINCOLI:\")\n",
    "print(f\"  Totali: {modello.NumConstrs}\")\n",
    "print(f\"  - Bilanciamento inventario: {len(vincoli_inventario)}\")\n",
    "print(f\"  - Inventario finale: {len(vincoli_inventario_finale)}\")\n",
    "print(f\"  - Big-M (produzione-setup): {len(vincoli_bigM)}\")\n",
    "\n",
    "print(f\"\\n🎯 TIPO DI MODELLO: Mixed-Integer Linear Programming (MILP)\")\n",
    "print(f\"  La presenza di variabili binarie rende il problema più complesso\")\n",
    "print(f\"  rispetto a un normale LP!\")\n",
    "print(\"\\n\" + \"=\"*70)"
   ]
  },
  {
   "cell_type": "markdown",
   "metadata": {},
   "source": [
    "## 🚀 Risoluzione del Modello"
   ]
  },
  {
   "cell_type": "code",
   "execution_count": 12,
   "metadata": {},
   "outputs": [
    {
     "name": "stdout",
     "output_type": "stream",
     "text": [
      "\n",
      "=== RISOLUZIONE IN CORSO ===\n",
      "Sto ottimizzando il piano di produzione...\n",
      "(I problemi MILP possono richiedere più tempo dei LP)\n",
      "\n",
      "✅ SOLUZIONE OTTIMA TROVATA!\n",
      "\n",
      "Gap di ottimalità: 0.0000%\n",
      "Tempo di risoluzione: 0.00 secondi\n"
     ]
    }
   ],
   "source": [
    "# Risolviamo il modello\n",
    "print(\"\\n=== RISOLUZIONE IN CORSO ===\")\n",
    "print(\"Sto ottimizzando il piano di produzione...\")\n",
    "print(\"(I problemi MILP possono richiedere più tempo dei LP)\\n\")\n",
    "\n",
    "modello.optimize()\n",
    "\n",
    "# Controlliamo lo stato della soluzione\n",
    "if modello.status == GRB.OPTIMAL:\n",
    "    print(\"✅ SOLUZIONE OTTIMA TROVATA!\")\n",
    "    print(f\"\\nGap di ottimalità: {modello.MIPGap * 100:.4f}%\")\n",
    "    print(f\"Tempo di risoluzione: {modello.Runtime:.2f} secondi\")\n",
    "elif modello.status == GRB.INFEASIBLE:\n",
    "    print(\"❌ Il modello è INAMMISSIBILE\")\n",
    "elif modello.status == GRB.UNBOUNDED:\n",
    "    print(\"⚠️ Il modello è ILLIMITATO\")\n",
    "else:\n",
    "    print(f\"⚠️ Status: {modello.status}\")"
   ]
  },
  {
   "cell_type": "markdown",
   "metadata": {},
   "source": [
    "## 📊 Risultati della Soluzione Ottima"
   ]
  },
  {
   "cell_type": "code",
   "execution_count": 13,
   "metadata": {},
   "outputs": [
    {
     "name": "stdout",
     "output_type": "stream",
     "text": [
      "\n",
      "======================================================================\n",
      "                    PIANO DI PRODUZIONE OTTIMALE\n",
      "======================================================================\n",
      "\n",
      "💰 COSTO TOTALE: 18,730.00 €\n",
      "\n",
      "📊 BREAKDOWN COSTI:\n",
      "  Produzione:  13,600.00 € ( 72.6%)\n",
      "  Setup:        4,800.00 € ( 25.6%)\n",
      "  Magazzino:      330.00 € (  1.8%)\n",
      "  ----------------------------------------\n",
      "  TOTALE:      18,730.00 €\n",
      "\n",
      "======================================================================\n"
     ]
    }
   ],
   "source": [
    "if modello.status == GRB.OPTIMAL:\n",
    "    # Salviamo la soluzione\n",
    "    sol_x = {(p, t): x[p, t].X for p in prodotti for t in settimane}\n",
    "    sol_y = {(p, t): y[p, t].X for p in prodotti for t in settimane}\n",
    "    sol_I = {(p, t): I[p, t].X for p in prodotti for t in settimane}\n",
    "    \n",
    "    # Costo totale\n",
    "    costo_totale = modello.ObjVal\n",
    "    \n",
    "    # Breakdown dei costi\n",
    "    costo_prod = sum(costo_produzione[p] * sol_x[p, t] for p in prodotti for t in settimane)\n",
    "    costo_setp = sum(costo_setup[p] * sol_y[p, t] for p in prodotti for t in settimane)\n",
    "    costo_inv = sum(costo_magazzino * sol_I[p, t] for p in prodotti for t in settimane)\n",
    "    \n",
    "    print(\"\\n\" + \"=\"*70)\n",
    "    print(\"                    PIANO DI PRODUZIONE OTTIMALE\")\n",
    "    print(\"=\"*70)\n",
    "    \n",
    "    print(f\"\\n💰 COSTO TOTALE: {costo_totale:,.2f} €\")\n",
    "    print(\"\\n📊 BREAKDOWN COSTI:\")\n",
    "    print(f\"  Produzione: {costo_prod:>10,.2f} € ({costo_prod/costo_totale*100:>5.1f}%)\")\n",
    "    print(f\"  Setup:      {costo_setp:>10,.2f} € ({costo_setp/costo_totale*100:>5.1f}%)\")\n",
    "    print(f\"  Magazzino:  {costo_inv:>10,.2f} € ({costo_inv/costo_totale*100:>5.1f}%)\")\n",
    "    print(\"  \" + \"-\" * 40)\n",
    "    print(f\"  TOTALE:     {costo_totale:>10,.2f} €\")\n",
    "    \n",
    "    print(\"\\n\" + \"=\"*70)"
   ]
  },
  {
   "cell_type": "code",
   "execution_count": 14,
   "metadata": {},
   "outputs": [
    {
     "name": "stdout",
     "output_type": "stream",
     "text": [
      "\n",
      "======================================================================\n",
      "              PIANO DI PRODUZIONE PER PRODOTTO E SETTIMANA\n",
      "======================================================================\n",
      "\n",
      "📦 PRODOTTO 1:\n",
      "----------------------------------------------------------------------\n",
      "Settimana    Setup?     Produzione      Domanda      Inventario\n",
      "----------------------------------------------------------------------\n",
      "1            ✓ SÌ           50.0 unità     50 unità       0.0 unità\n",
      "2            ✓ SÌ          100.0 unità     60 unità      40.0 unità\n",
      "3            ✗ NO            0.0 unità     40 unità       0.0 unità\n",
      "4            ✓ SÌ           70.0 unità     70 unità       0.0 unità\n",
      "----------------------------------------------------------------------\n",
      "Totale prodotto: 220.0 unità (domanda: 220)\n",
      "Numero di setup: 3 (costo: 1500€)\n",
      "\n",
      "📦 PRODOTTO 2:\n",
      "----------------------------------------------------------------------\n",
      "Settimana    Setup?     Produzione      Domanda      Inventario\n",
      "----------------------------------------------------------------------\n",
      "1            ✓ SÌ           40.0 unità     40 unità       0.0 unità\n",
      "2            ✓ SÌ           80.0 unità     50 unità      30.0 unità\n",
      "3            ✗ NO            0.0 unità     30 unità       0.0 unità\n",
      "4            ✓ SÌ           50.0 unità     50 unità       0.0 unità\n",
      "----------------------------------------------------------------------\n",
      "Totale prodotto: 170.0 unità (domanda: 170)\n",
      "Numero di setup: 3 (costo: 2100€)\n",
      "\n",
      "📦 PRODOTTO 3:\n",
      "----------------------------------------------------------------------\n",
      "Settimana    Setup?     Produzione      Domanda      Inventario\n",
      "----------------------------------------------------------------------\n",
      "1            ✓ SÌ           75.0 unità     30 unità      45.0 unità\n",
      "2            ✗ NO            0.0 unità     40 unità       5.0 unità\n",
      "3            ✓ SÌ           90.0 unità     50 unità      45.0 unità\n",
      "4            ✗ NO            0.0 unità     45 unità       0.0 unità\n",
      "----------------------------------------------------------------------\n",
      "Totale prodotto: 165.0 unità (domanda: 165)\n",
      "Numero di setup: 2 (costo: 1200€)\n",
      "\n",
      "======================================================================\n"
     ]
    }
   ],
   "source": [
    "if modello.status == GRB.OPTIMAL:\n",
    "    print(\"\\n\" + \"=\"*70)\n",
    "    print(\"              PIANO DI PRODUZIONE PER PRODOTTO E SETTIMANA\")\n",
    "    print(\"=\"*70)\n",
    "    \n",
    "    for p in prodotti:\n",
    "        print(f\"\\n📦 PRODOTTO {p}:\")\n",
    "        print(\"-\" * 70)\n",
    "        print(f\"{'Settimana':<12} {'Setup?':<10} {'Produzione':<15} {'Domanda':<12} {'Inventario'}\")\n",
    "        print(\"-\" * 70)\n",
    "        \n",
    "        for t in settimane:\n",
    "            setup_str = \"✓ SÌ\" if sol_y[p, t] > 0.5 else \"✗ NO\"\n",
    "            prod = sol_x[p, t]\n",
    "            dem = domanda[p, t]\n",
    "            inv = sol_I[p, t]\n",
    "            \n",
    "            print(f\"{t:<12} {setup_str:<10} {prod:>8.1f} unità   {dem:>4} unità    {inv:>6.1f} unità\")\n",
    "        \n",
    "        # Statistiche per prodotto\n",
    "        print(\"-\" * 70)\n",
    "        totale_prod = sum(sol_x[p, t] for t in settimane)\n",
    "        totale_dom = sum(domanda[p, t] for t in settimane)\n",
    "        num_setup = sum(sol_y[p, t] for t in settimane)\n",
    "        \n",
    "        print(f\"Totale prodotto: {totale_prod:.1f} unità (domanda: {totale_dom})\")\n",
    "        print(f\"Numero di setup: {int(num_setup)} (costo: {num_setup * costo_setup[p]:.0f}€)\")\n",
    "    \n",
    "    print(\"\\n\" + \"=\"*70)"
   ]
  },
  {
   "cell_type": "markdown",
   "metadata": {},
   "source": [
    "## 📊 Visualizzazioni Grafiche"
   ]
  },
  {
   "cell_type": "code",
   "execution_count": 15,
   "metadata": {},
   "outputs": [
    {
     "data": {
      "image/png": "[encoded data removed]",
      "text/plain": [
       "<Figure size 1500x1000 with 4 Axes>"
      ]
     },
     "metadata": {},
     "output_type": "display_data"
    }
   ],
   "source": [
    "if modello.status == GRB.OPTIMAL:\n",
    "    # Grafico 1: Breakdown costi\n",
    "    fig, axes = plt.subplots(2, 2, figsize=(15, 10))\n",
    "    \n",
    "    # Pie chart costi\n",
    "    costi = [costo_prod, costo_setp, costo_inv]\n",
    "    labels = ['Produzione', 'Setup', 'Magazzino']\n",
    "    colors = ['#FF6B6B', '#4ECDC4', '#FFD93D']\n",
    "    \n",
    "    axes[0, 0].pie(costi, labels=labels, autopct='%1.1f%%', colors=colors, startangle=90)\n",
    "    axes[0, 0].set_title('Breakdown Costi Totali', fontweight='bold', fontsize=12)\n",
    "    \n",
    "    # Grafico 2: Numero di setup per prodotto\n",
    "    num_setup_per_prod = [sum(sol_y[p, t] for t in settimane) for p in prodotti]\n",
    "    axes[0, 1].bar([f'P{p}' for p in prodotti], num_setup_per_prod, color='#4ECDC4')\n",
    "    axes[0, 1].set_xlabel('Prodotto', fontweight='bold')\n",
    "    axes[0, 1].set_ylabel('Numero di Setup', fontweight='bold')\n",
    "    axes[0, 1].set_title('Setup per Prodotto', fontweight='bold', fontsize=12)\n",
    "    axes[0, 1].set_ylim(0, 5)\n",
    "    axes[0, 1].grid(axis='y', alpha=0.3)\n",
    "    \n",
    "    # Aggiungi valori\n",
    "    for i, val in enumerate(num_setup_per_prod):\n",
    "        axes[0, 1].text(i, val + 0.1, f'{int(val)}', ha='center', fontweight='bold')\n",
    "    \n",
    "    # Grafico 3: Produzione vs Domanda nel tempo per ogni prodotto\n",
    "    x_pos = np.arange(len(settimane))\n",
    "    width = 0.25\n",
    "    \n",
    "    for i, p in enumerate(prodotti):\n",
    "        produzione = [sol_x[p, t] for t in settimane]\n",
    "        domande = [domanda[p, t] for t in settimane]\n",
    "        \n",
    "        axes[1, 0].bar(x_pos + i*width, produzione, width, \n",
    "                      label=f'Prod P{p}', alpha=0.8)\n",
    "    \n",
    "    axes[1, 0].set_xlabel('Settimana', fontweight='bold')\n",
    "    axes[1, 0].set_ylabel('Unità', fontweight='bold')\n",
    "    axes[1, 0].set_title('Produzione per Settimana', fontweight='bold', fontsize=12)\n",
    "    axes[1, 0].set_xticks(x_pos + width)\n",
    "    axes[1, 0].set_xticklabels([f'S{t}' for t in settimane])\n",
    "    axes[1, 0].legend()\n",
    "    axes[1, 0].grid(axis='y', alpha=0.3)\n",
    "    \n",
    "    # Grafico 4: Inventario nel tempo\n",
    "    for p in prodotti:\n",
    "        inventari = [sol_I[p, t] for t in settimane]\n",
    "        axes[1, 1].plot(settimane, inventari, marker='o', linewidth=2, \n",
    "                       markersize=8, label=f'Prodotto {p}')\n",
    "    \n",
    "    axes[1, 1].set_xlabel('Settimana', fontweight='bold')\n",
    "    axes[1, 1].set_ylabel('Unità in Stock', fontweight='bold')\n",
    "    axes[1, 1].set_title('Evoluzione Inventario', fontweight='bold', fontsize=12)\n",
    "    axes[1, 1].legend()\n",
    "    axes[1, 1].grid(True, alpha=0.3)\n",
    "    axes[1, 1].set_xticks(settimane)\n",
    "    \n",
    "    plt.tight_layout()\n",
    "    plt.show()"
   ]
  },
  {
   "cell_type": "markdown",
   "metadata": {},
   "source": [
    "## 🔍 Analisi delle Decisioni Binarie\n",
    "\n",
    "Analizziamo **quando conviene produrre** e **quando no**."
   ]
  },
  {
   "cell_type": "code",
   "execution_count": 17,
   "metadata": {},
   "outputs": [
    {
     "name": "stdout",
     "output_type": "stream",
     "text": [
      "\n",
      "======================================================================\n",
      "           ANALISI STRATEGIA DI PRODUZIONE (Setup)\n",
      "======================================================================\n",
      "\n",
      "📦 PRODOTTO 1:\n",
      "----------------------------------------------------------------------\n",
      "Settimane CON produzione: [1, 2, 4]\n",
      "Settimane SENZA produzione: [3]\n",
      "\n",
      "Costo setup totale: 1500€\n",
      "\n",
      "💡 STRATEGIA:\n",
      "  Sett.1: Produce 50 unità (domanda 50) → Just-in-time\n",
      "  Sett.2: Produce 100 unità (domanda 60) → 40 unità in ANTICIPO\n",
      "  Sett.3: NON produce (usa inventario della settimana precedente)\n",
      "  Sett.4: Produce 70 unità (domanda 70) → Just-in-time\n",
      "\n",
      "📦 PRODOTTO 2:\n",
      "----------------------------------------------------------------------\n",
      "Settimane CON produzione: [1, 2, 4]\n",
      "Settimane SENZA produzione: [3]\n",
      "\n",
      "Costo setup totale: 2100€\n",
      "\n",
      "💡 STRATEGIA:\n",
      "  Sett.1: Produce 40 unità (domanda 40) → Just-in-time\n",
      "  Sett.2: Produce 80 unità (domanda 50) → 30 unità in ANTICIPO\n",
      "  Sett.3: NON produce (usa inventario della settimana precedente)\n",
      "  Sett.4: Produce 50 unità (domanda 50) → Just-in-time\n",
      "\n",
      "📦 PRODOTTO 3:\n",
      "----------------------------------------------------------------------\n",
      "Settimane CON produzione: [1, 3]\n",
      "Settimane SENZA produzione: [2, 4]\n",
      "\n",
      "Costo setup totale: 1200€\n",
      "\n",
      "💡 STRATEGIA:\n",
      "  Sett.1: Produce 75 unità (domanda 30) → 45 unità in ANTICIPO\n",
      "  Sett.2: NON produce (usa inventario della settimana precedente)\n",
      "  Sett.3: Produce 90 unità (domanda 50) → 40 unità in ANTICIPO\n",
      "  Sett.4: NON produce (usa inventario della settimana precedente)\n",
      "\n",
      "======================================================================\n",
      "\n",
      "🎯 OSSERVAZIONI CHIAVE:\n",
      "----------------------------------------------------------------------\n",
      "• La soluzione ottima bilancia il TRADE-OFF tra:\n",
      "  - Pochi setup (→ meno costi fissi) MA più magazzino\n",
      "  - Più setup (→ più costi fissi) MA meno magazzino\n",
      "\n",
      "• Il modello decide AUTOMATICAMENTE quando conviene:\n",
      "  - Produrre in anticipo e pagare magazzino\n",
      "  - Fare un setup aggiuntivo per evitare magazzino\n",
      "======================================================================\n"
     ]
    }
   ],
   "source": [
    "if modello.status == GRB.OPTIMAL:\n",
    "    print(\"\\n\" + \"=\"*70)\n",
    "    print(\"           ANALISI STRATEGIA DI PRODUZIONE (Setup)\")\n",
    "    print(\"=\"*70)\n",
    "    \n",
    "    for p in prodotti:\n",
    "        print(f\"\\n📦 PRODOTTO {p}:\")\n",
    "        print(\"-\" * 70)\n",
    "        \n",
    "        settimane_con_setup = [t for t in settimane if sol_y[p, t] > 0.5]\n",
    "        settimane_senza_setup = [t for t in settimane if sol_y[p, t] < 0.5]\n",
    "        \n",
    "        print(f\"Settimane CON produzione: {settimane_con_setup}\")\n",
    "        print(f\"Settimane SENZA produzione: {settimane_senza_setup}\")\n",
    "        print(f\"\\nCosto setup totale: {len(settimane_con_setup) * costo_setup[p]:.0f}€\")\n",
    "        \n",
    "        # Analisi produzione anticipata\n",
    "        print(\"\\n💡 STRATEGIA:\")\n",
    "        for t in settimane:\n",
    "            if sol_y[p, t] > 0.5:\n",
    "                prod = sol_x[p, t]\n",
    "                dom = domanda[p, t]\n",
    "                if prod > dom + 0.1:\n",
    "                    extra = prod - dom\n",
    "                    print(f\"  Sett.{t}: Produce {prod:.0f} unità (domanda {dom}) → {extra:.0f} unità in ANTICIPO\")\n",
    "                else:\n",
    "                    print(f\"  Sett.{t}: Produce {prod:.0f} unità (domanda {dom}) → Just-in-time\")\n",
    "            else:\n",
    "                print(f\"  Sett.{t}: NON produce (usa inventario della settimana precedente)\")\n",
    "    \n",
    "    print(\"\\n\" + \"=\"*70)\n",
    "    print(\"\\n🎯 OSSERVAZIONI CHIAVE:\")\n",
    "    print(\"-\" * 70)\n",
    "    print(\"• La soluzione ottima bilancia il TRADE-OFF tra:\")\n",
    "    print(\"  - Pochi setup (→ meno costi fissi) MA più magazzino\")\n",
    "    print(\"  - Più setup (→ più costi fissi) MA meno magazzino\")\n",
    "    print(\"\\n• Il modello decide AUTOMATICAMENTE quando conviene:\")\n",
    "    print(\"  - Produrre in anticipo e pagare magazzino\")\n",
    "    print(\"  - Fare un setup aggiuntivo per evitare magazzino\")\n",
    "    print(\"=\"*70)"
   ]
  },
  {
   "cell_type": "markdown",
   "metadata": {},
   "source": [
    "## 🧪 Esperimenti: Analisi What-If"
   ]
  },
  {
   "cell_type": "markdown",
   "metadata": {},
   "source": [
    "### Esperimento 1: Cosa succede se dimezziamo i costi di setup?"
   ]
  },
  {
   "cell_type": "code",
   "execution_count": 18,
   "metadata": {},
   "outputs": [
    {
     "name": "stdout",
     "output_type": "stream",
     "text": [
      "\n",
      "======================================================================\n",
      "    SCENARIO: Costi di Setup DIMEZZATI (50% dei valori originali)\n",
      "======================================================================\n",
      "\n",
      "Costo originale: 18,730.00 €\n",
      "Nuovo costo: 16,330.00 €\n",
      "Risparmio: 2,400.00 € (-12.8%)\n",
      "\n",
      "📊 CAMBIAMENTO STRATEGIA:\n",
      "----------------------------------------------------------------------\n",
      "Prodotto 1:\n",
      "  Setup prima: 3\n",
      "  Setup ora:   3\n",
      "  → Stessa strategia\n",
      "Prodotto 2:\n",
      "  Setup prima: 3\n",
      "  Setup ora:   3\n",
      "  → Stessa strategia\n",
      "Prodotto 3:\n",
      "  Setup prima: 2\n",
      "  Setup ora:   2\n",
      "  → Stessa strategia\n",
      "\n",
      "💡 INSIGHT: Con setup più economici, conviene fare più setup e\n",
      "    tenere meno inventario (strategia più just-in-time)\n",
      "======================================================================\n"
     ]
    }
   ],
   "source": [
    "# Salviamo i costi originali\n",
    "costo_setup_originale = costo_setup.copy()\n",
    "costo_totale_originale = costo_totale\n",
    "num_setup_originale = {p: sum(sol_y[p, t] for t in settimane) for p in prodotti}\n",
    "\n",
    "# Dimezziamo i costi di setup\n",
    "for p in prodotti:\n",
    "    costo_setup[p] = costo_setup[p] / 2\n",
    "\n",
    "# Ridefinisco la funzione obiettivo\n",
    "costo_setup_totale_nuovo = gp.quicksum(\n",
    "    costo_setup[p] * y[p, t] for p in prodotti for t in settimane\n",
    ")\n",
    "funzione_obiettivo_nuova = costo_prod_totale + costo_setup_totale_nuovo + costo_inventario_totale\n",
    "modello.setObjective(funzione_obiettivo_nuova, GRB.MINIMIZE)\n",
    "\n",
    "# Risolvo\n",
    "modello.optimize()\n",
    "\n",
    "if modello.status == GRB.OPTIMAL:\n",
    "    print(\"\\n\" + \"=\"*70)\n",
    "    print(\"    SCENARIO: Costi di Setup DIMEZZATI (50% dei valori originali)\")\n",
    "    print(\"=\"*70)\n",
    "    \n",
    "    print(f\"\\nCosto originale: {costo_totale_originale:,.2f} €\")\n",
    "    print(f\"Nuovo costo: {modello.ObjVal:,.2f} €\")\n",
    "    print(f\"Risparmio: {costo_totale_originale - modello.ObjVal:,.2f} € (-{((1 - modello.ObjVal/costo_totale_originale)*100):.1f}%)\")\n",
    "    \n",
    "    print(\"\\n📊 CAMBIAMENTO STRATEGIA:\")\n",
    "    print(\"-\" * 70)\n",
    "    for p in prodotti:\n",
    "        num_setup_nuovo = sum(y[p, t].X for t in settimane)\n",
    "        print(f\"Prodotto {p}:\")\n",
    "        print(f\"  Setup prima: {int(num_setup_originale[p])}\")\n",
    "        print(f\"  Setup ora:   {int(num_setup_nuovo)}\")\n",
    "        if num_setup_nuovo > num_setup_originale[p]:\n",
    "            print(f\"  → Fa PIÙ setup! (setup più economico → conviene produrre più spesso)\")\n",
    "        elif num_setup_nuovo < num_setup_originale[p]:\n",
    "            print(f\"  → Fa MENO setup!\")\n",
    "        else:\n",
    "            print(f\"  → Stessa strategia\")\n",
    "    \n",
    "    print(\"\\n💡 INSIGHT: Con setup più economici, conviene fare più setup e\")\n",
    "    print(\"    tenere meno inventario (strategia più just-in-time)\")\n",
    "    print(\"=\"*70)\n",
    "\n",
    "# Ripristino\n",
    "costo_setup = costo_setup_originale.copy()\n",
    "costo_setup_totale = gp.quicksum(\n",
    "    costo_setup[p] * y[p, t] for p in prodotti for t in settimane\n",
    ")\n",
    "funzione_obiettivo = costo_prod_totale + costo_setup_totale + costo_inventario_totale\n",
    "modello.setObjective(funzione_obiettivo, GRB.MINIMIZE)\n",
    "modello.optimize()"
   ]
  },
  {
   "cell_type": "markdown",
   "metadata": {},
   "source": [
    "### Esperimento 2: Cosa succede se aumentiamo il costo di magazzino?"
   ]
  },
  {
   "cell_type": "code",
   "execution_count": null,
   "metadata": {},
   "outputs": [
    {
     "name": "stdout",
     "output_type": "stream",
     "text": [
      "\n",
      "======================================================================\n",
      "    SCENARIO: Costo Magazzino AUMENTATO (da 2€ a 5€ per unità)\n",
      "======================================================================\n",
      "\n",
      "Costo originale: 18,730.00 €\n",
      "Nuovo costo: 19,225.00 €\n",
      "Aumento: 495.00 € (+2.6%)\n",
      "\n",
      "📊 CAMBIAMENTO STRATEGIA:\n",
      "----------------------------------------------------------------------\n",
      "Inventario medio prima: 13.8 unità\n",
      "Inventario medio ora:   13.8 unità\n",
      "\n",
      "→ Tiene MENO inventario! (magazzino più costoso → conviene produrre più spesso)\n",
      "\n",
      "💡 INSIGHT: Con magazzino più costoso, può convenire fare più setup\n",
      "    per evitare di tenere prodotti in stock\n",
      "======================================================================\n"
     ]
    }
   ],
   "source": [
    "# Il costo magazzino passa da 2€ a 5€ per unità per settimana\n",
    "costo_magazzino_originale = costo_magazzino\n",
    "costo_magazzino = 5\n",
    "\n",
    "# Ridefinisco la funzione obiettivo\n",
    "costo_inventario_totale_nuovo = gp.quicksum(\n",
    "    costo_magazzino * I[p, t] for p in prodotti for t in settimane)\n",
    "\n",
    "funzione_obiettivo_nuova = costo_prod_totale + costo_setup_totale + costo_inventario_totale_nuovo\n",
    "modello.setObjective(funzione_obiettivo_nuova, GRB.MINIMIZE)\n",
    "\n",
    "# Risolvo\n",
    "modello.optimize()\n",
    "\n",
    "if modello.status == GRB.OPTIMAL:\n",
    "    print(\"\\n\" + \"=\"*70)\n",
    "    print(\"    SCENARIO: Costo Magazzino AUMENTATO (da 2€ a 5€ per unità)\")\n",
    "    print(\"=\"*70)\n",
    "    \n",
    "    print(f\"\\nCosto originale: {costo_totale_originale:,.2f} €\")\n",
    "    print(f\"Nuovo costo: {modello.ObjVal:,.2f} €\")\n",
    "    print(f\"Aumento: {modello.ObjVal - costo_totale_originale:,.2f} € (+{((modello.ObjVal/costo_totale_originale - 1)*100):.1f}%)\")\n",
    "    \n",
    "    print(\"\\n📊 CAMBIAMENTO STRATEGIA:\")\n",
    "    print(\"-\" * 70)\n",
    "    \n",
    "    inventario_medio_originale = sum(sol_I[p, t] for p in prodotti for t in settimane) / (len(prodotti) * len(settimane))\n",
    "    inventario_medio_nuovo = sum(I[p, t].X for p in prodotti for t in settimane) / (len(prodotti) * len(settimane))\n",
    "    \n",
    "    print(f\"Inventario medio prima: {inventario_medio_originale:.1f} unità\")\n",
    "    print(f\"Inventario medio ora:   {inventario_medio_nuovo:.1f} unità\")\n",
    "    \n",
    "    if inventario_medio_nuovo <= inventario_medio_originale:\n",
    "        print(f\"\\n→ Tiene MENO inventario! (magazzino più costoso → conviene produrre più spesso)\")\n",
    "    else:\n",
    "        print(f\"\\n→ Tiene PIÙ inventario!\")\n",
    "    \n",
    "    for p in prodotti:\n",
    "        num_setup_nuovo = sum(y[p, t].X for t in settimane)\n",
    "        if num_setup_nuovo != num_setup_originale[p]:\n",
    "            print(f\"\\nProdotto {p}: Passa da {int(num_setup_originale[p])} a {int(num_setup_nuovo)} setup\")\n",
    "    \n",
    "    print(\"\\n💡 INSIGHT: Con magazzino più costoso, può convenire fare più setup\")\n",
    "    print(\"    per evitare di tenere prodotti in stock\")\n",
    "    print(\"=\"*70)\n",
    "\n",
    "# Ripristino\n",
    "costo_magazzino = costo_magazzino_originale\n",
    "costo_inventario_totale = gp.quicksum(\n",
    "    costo_magazzino * I[p, t] for p in prodotti for t in settimane\n",
    ")\n",
    "funzione_obiettivo = costo_prod_totale + costo_setup_totale + costo_inventario_totale\n",
    "modello.setObjective(funzione_obiettivo, GRB.MINIMIZE)\n",
    "modello.optimize()"
   ]
  },
  {
   "cell_type": "markdown",
   "metadata": {},
   "source": [
    "### Esperimento 3: Cosa succede con una domanda più variabile?"
   ]
  },
  {
   "cell_type": "code",
   "execution_count": 20,
   "metadata": {},
   "outputs": [
    {
     "name": "stdout",
     "output_type": "stream",
     "text": [
      "\n",
      "======================================================================\n",
      "    SCENARIO: Domanda Prodotto 1 con PICCO in Settimana 4 (120 unità)\n",
      "======================================================================\n",
      "\n",
      "Costo originale: 18,730.00 €\n",
      "Nuovo costo: 19,410.00 €\n",
      "Aumento: 680.00 €\n",
      "\n",
      "📦 STRATEGIA PRODOTTO 1:\n",
      "----------------------------------------------------------------------\n",
      "Sett.1: Produce   90.0, Domanda  30, Inventario   60.0, Setup: ✓\n",
      "Sett.2: Produce    0.0, Domanda  60, Inventario    0.0, Setup: ✗\n",
      "Sett.3: Produce   60.0, Domanda  40, Inventario   20.0, Setup: ✓\n",
      "Sett.4: Produce  100.0, Domanda 120, Inventario    0.0, Setup: ✓\n",
      "\n",
      "💡 INSIGHT: Con picchi di domanda, il modello può decidere di\n",
      "    produrre in anticipo per evitare problemi di capacità\n",
      "======================================================================\n"
     ]
    }
   ],
   "source": [
    "# Creiamo una domanda con picchi più alti\n",
    "domanda_originale = domanda.copy()\n",
    "\n",
    "# Prodotto 1: picco nella settimana 4\n",
    "domanda[1, 4] = 120  # da 70 a 120\n",
    "domanda[1, 1] = 30   # da 50 a 30\n",
    "\n",
    "# Aggiorniamo i vincoli\n",
    "for p in prodotti:\n",
    "    for t in settimane:\n",
    "        if t == 1:\n",
    "            vincoli_inventario[p, t].RHS = 0\n",
    "            modello.remove(vincoli_inventario[p, t])\n",
    "            vincoli_inventario[p, t] = modello.addConstr(\n",
    "                x[p, t] == domanda[p, t] + I[p, t],\n",
    "                name=f\"Inventario_P{p}_S{t}\"\n",
    "            )\n",
    "        else:\n",
    "            modello.remove(vincoli_inventario[p, t])\n",
    "            vincoli_inventario[p, t] = modello.addConstr(\n",
    "                I[p, t-1] + x[p, t] == domanda[p, t] + I[p, t],\n",
    "                name=f\"Inventario_P{p}_S{t}\"\n",
    "            )\n",
    "\n",
    "modello.update()\n",
    "modello.optimize()\n",
    "\n",
    "if modello.status == GRB.OPTIMAL:\n",
    "    print(\"\\n\" + \"=\"*70)\n",
    "    print(\"    SCENARIO: Domanda Prodotto 1 con PICCO in Settimana 4 (120 unità)\")\n",
    "    print(\"=\"*70)\n",
    "    \n",
    "    print(f\"\\nCosto originale: {costo_totale_originale:,.2f} €\")\n",
    "    print(f\"Nuovo costo: {modello.ObjVal:,.2f} €\")\n",
    "    print(f\"Aumento: {modello.ObjVal - costo_totale_originale:,.2f} €\")\n",
    "    \n",
    "    print(\"\\n📦 STRATEGIA PRODOTTO 1:\")\n",
    "    print(\"-\" * 70)\n",
    "    for t in settimane:\n",
    "        print(f\"Sett.{t}: Produce {x[1, t].X:>6.1f}, Domanda {domanda[1, t]:>3}, Inventario {I[1, t].X:>6.1f}, Setup: {'✓' if y[1, t].X > 0.5 else '✗'}\")\n",
    "    \n",
    "    print(\"\\n💡 INSIGHT: Con picchi di domanda, il modello può decidere di\")\n",
    "    print(\"    produrre in anticipo per evitare problemi di capacità\")\n",
    "    print(\"=\"*70)\n",
    "elif modello.status == GRB.INFEASIBLE:\n",
    "    print(\"\\n❌ SOLUZIONE NON AMMISSIBILE!\")\n",
    "    print(\"La capacità produttiva non è sufficiente per il picco di domanda.\")\n",
    "\n",
    "# Ripristino\n",
    "domanda = domanda_originale.copy()\n",
    "for p in prodotti:\n",
    "    for t in settimane:\n",
    "        modello.remove(vincoli_inventario[p, t])\n",
    "        if t == 1:\n",
    "            vincoli_inventario[p, t] = modello.addConstr(\n",
    "                x[p, t] == domanda[p, t] + I[p, t],\n",
    "                name=f\"Inventario_P{p}_S{t}\"\n",
    "            )\n",
    "        else:\n",
    "            vincoli_inventario[p, t] = modello.addConstr(\n",
    "                I[p, t-1] + x[p, t] == domanda[p, t] + I[p, t],\n",
    "                name=f\"Inventario_P{p}_S{t}\"\n",
    "            )\n",
    "modello.update()\n",
    "modello.optimize()"
   ]
  },
  {
   "cell_type": "markdown",
   "metadata": {},
   "source": [
    "## 📝 Esportazione del Modello"
   ]
  },
  {
   "cell_type": "code",
   "execution_count": 21,
   "metadata": {},
   "outputs": [
    {
     "name": "stdout",
     "output_type": "stream",
     "text": [
      "\n",
      "✅ Modello esportato in 'pianificazione_setup.lp'\n",
      "✅ Soluzione esportata in 'pianificazione_setup_soluzione.sol'\n"
     ]
    }
   ],
   "source": [
    "# Esportiamo il modello\n",
    "modello.write(\"pianificazione_setup.lp\")\n",
    "print(\"\\n✅ Modello esportato in 'pianificazione_setup.lp'\")\n",
    "\n",
    "# Esportiamo la soluzione\n",
    "modello.write(\"pianificazione_setup_soluzione.sol\")\n",
    "print(\"✅ Soluzione esportata in 'pianificazione_setup_soluzione.sol'\")"
   ]
  }
 ],
 "metadata": {
  "kernelspec": {
   "display_name": "virtualenv",
   "language": "python",
   "name": "python3"
  },
  "language_info": {
   "codemirror_mode": {
    "name": "ipython",
    "version": 3
   },
   "file_extension": ".py",
   "mimetype": "text/x-python",
   "name": "python",
   "nbconvert_exporter": "python",
   "pygments_lexer": "ipython3",
   "version": "3.13.7"
  }
 },
 "nbformat": 4,
 "nbformat_minor": 4
}
