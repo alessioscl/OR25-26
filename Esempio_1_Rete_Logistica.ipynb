{
 "cells": [
  {
   "cell_type": "markdown",
   "metadata": {},
   "source": [
    "# Esempio 2: Ottimizzazione Rete Logistica\n",
    "\n",
    "## Ricerca Operativa - Problema di Trasporto\n",
    "\n",
    "**Obiettivo**: Risolvere un classico problema di trasporto (transportation problem) minimizzando i costi di distribuzione.\n",
    "\n",
    "---"
   ]
  },
  {
   "cell_type": "markdown",
   "metadata": {},
   "source": [
    "## 📋 Descrizione del Problema\n",
    "\n",
    "Un'azienda ha **3 stabilimenti produttivi** e deve rifornire **4 centri distributivi**.\n",
    "\n",
    "### Capacità produttive degli stabilimenti (unità/mese):\n",
    "- **Stabilimento 1**: 200 unità\n",
    "- **Stabilimento 2**: 300 unità\n",
    "- **Stabilimento 3**: 250 unità\n",
    "\n",
    "**Capacità totale**: 750 unità/mese\n",
    "\n",
    "### Domande dei centri distributivi (unità/mese):\n",
    "- **Centro A**: 150 unità\n",
    "- **Centro B**: 200 unità\n",
    "- **Centro C**: 180 unità\n",
    "- **Centro D**: 170 unità\n",
    "\n",
    "**Domanda totale**: 700 unità/mese\n",
    "\n",
    "### Costi di trasporto (€/unità):\n",
    "\n",
    "|           | Centro A | Centro B | Centro C | Centro D |\n",
    "|-----------|----------|----------|----------|----------|\n",
    "| Stab. 1   | 8        | 6        | 10       | 9        |\n",
    "| Stab. 2   | 9        | 12       | 7        | 8        |\n",
    "| Stab. 3   | 14       | 9        | 11       | 5        |\n",
    "\n",
    "### Obiettivo:\n",
    "Determinare **quanto spedire da ciascuno stabilimento a ciascun centro** per **minimizzare i costi totali di trasporto**.\n",
    "\n",
    "### Nota:\n",
    "Poiché l'offerta (750) > domanda (700), il problema ha sicuramente una soluzione ammissibile."
   ]
  },
  {
   "cell_type": "markdown",
   "metadata": {},
   "source": [
    "## 📐 Modello Matematico\n",
    "\n",
    "### Insiemi:\n",
    "- $I = \\{1, 2, 3\\}$ = insieme degli stabilimenti\n",
    "- $J = \\{A, B, C, D\\}$ = insieme dei centri distributivi\n",
    "\n",
    "### Parametri:\n",
    "- $b_i$ = capacità dello stabilimento $i$ (unità/mese)\n",
    "- $d_j$ = domanda del centro $j$ (unità/mese)\n",
    "- $c_{ij}$ = costo di trasporto da stabilimento $i$ a centro $j$ (€/unità)\n",
    "\n",
    "### Variabili decisionali:\n",
    "- $x_{ij}$ = quantità trasportata dallo stabilimento $i$ al centro $j$\n",
    "\n",
    "### Funzione obiettivo:\n",
    "$$\\min z = \\sum_{i \\in I} \\sum_{j \\in J} c_{ij} x_{ij}$$\n",
    "\n",
    "### Vincoli:\n",
    "$$\n",
    "\\begin{align}\n",
    "\\sum_{j \\in J} x_{ij} &\\leq b_i \\quad \\forall i \\in I \\quad &\\text{(capacità stabilimenti)} \\\\\n",
    "\\sum_{i \\in I} x_{ij} &= d_j \\quad \\forall j \\in J \\quad &\\text{(domanda centri)} \\\\\n",
    "x_{ij} &\\geq 0 \\quad \\forall i \\in I, j \\in J \\quad &\\text{(non negatività)}\n",
    "\\end{align}\n",
    "$$"
   ]
  },
  {
   "cell_type": "markdown",
   "metadata": {},
   "source": [
    "## 💻 Implementazione in Gurobi\n",
    "\n",
    "### Step 1: Import e Setup"
   ]
  },
  {
   "cell_type": "code",
   "execution_count": 1,
   "metadata": {},
   "outputs": [
    {
     "name": "stdout",
     "output_type": "stream",
     "text": [
      "Librerie importate con successo!\n",
      "Versione Gurobi: (12, 0, 3)\n"
     ]
    }
   ],
   "source": [
    "# Import delle librerie necessarie\n",
    "import gurobipy as gp\n",
    "from gurobipy import GRB\n",
    "import pandas as pd\n",
    "import numpy as np\n",
    "import matplotlib.pyplot as plt\n",
    "import networkx as nx\n",
    "from matplotlib.patches import FancyBboxPatch\n",
    "\n",
    "%matplotlib inline\n",
    "\n",
    "print(\"Librerie importate con successo!\")\n",
    "print(f\"Versione Gurobi: {gp.gurobi.version()}\")"
   ]
  },
  {
   "cell_type": "markdown",
   "metadata": {},
   "source": [
    "### Step 2: Definizione dei Dati del Problema"
   ]
  },
  {
   "cell_type": "code",
   "execution_count": 2,
   "metadata": {},
   "outputs": [
    {
     "name": "stdout",
     "output_type": "stream",
     "text": [
      "\n",
      "=== DATI DEL PROBLEMA ===\n",
      "\n",
      "Offerta totale: 750 unità/mese\n",
      "Domanda totale: 700 unità/mese\n",
      "Eccesso di capacità: 50 unità/mese\n",
      "\n",
      "✓ Il problema è BILANCIATO (offerta ≥ domanda)\n"
     ]
    }
   ],
   "source": [
    "# Insiemi\n",
    "stabilimenti = [1, 2, 3]\n",
    "centri = ['A', 'B', 'C', 'D']\n",
    "\n",
    "# Capacità degli stabilimenti (unità/mese)\n",
    "capacita = {\n",
    "    1: 200,\n",
    "    2: 300,\n",
    "    3: 250\n",
    "}\n",
    "\n",
    "# Domanda dei centri distributivi (unità/mese)\n",
    "domanda = {\n",
    "    'A': 150,\n",
    "    'B': 200,\n",
    "    'C': 180,\n",
    "    'D': 170\n",
    "}\n",
    "\n",
    "# Costi di trasporto (€/unità)\n",
    "# costo[i][j] = costo per trasportare da stabilimento i a centro j\n",
    "costo = {\n",
    "    1: {'A': 8,  'B': 6,  'C': 10, 'D': 9},\n",
    "    2: {'A': 9,  'B': 12, 'C': 7,  'D': 8},\n",
    "    3: {'A': 14, 'B': 9,  'C': 11, 'D': 5}\n",
    "}\n",
    "\n",
    "# Verifica bilanciamento\n",
    "offerta_totale = sum(capacita.values())\n",
    "domanda_totale = sum(domanda.values())\n",
    "\n",
    "print(\"\\n=== DATI DEL PROBLEMA ===\")\n",
    "print(f\"\\nOfferta totale: {offerta_totale} unità/mese\")\n",
    "print(f\"Domanda totale: {domanda_totale} unità/mese\")\n",
    "print(f\"Eccesso di capacità: {offerta_totale - domanda_totale} unità/mese\")\n",
    "print(f\"\\n✓ Il problema è BILANCIATO (offerta ≥ domanda)\")"
   ]
  },
  {
   "cell_type": "code",
   "execution_count": 3,
   "metadata": {},
   "outputs": [
    {
     "name": "stdout",
     "output_type": "stream",
     "text": [
      "\n",
      "=== CAPACITÀ STABILIMENTI ===\n",
      "Stabilimento  Capacità (unità/mese)\n",
      "     Stab. 1                    200\n",
      "     Stab. 2                    300\n",
      "     Stab. 3                    250\n",
      "\n",
      "=== DOMANDA CENTRI DISTRIBUTIVI ===\n",
      "  Centro  Domanda (unità/mese)\n",
      "Centro A                   150\n",
      "Centro B                   200\n",
      "Centro C                   180\n",
      "Centro D                   170\n",
      "\n",
      "=== MATRICE COSTI DI TRASPORTO (€/unità) ===\n",
      "         Centro A  Centro B  Centro C  Centro D\n",
      "Stab. 1         8         6        10         9\n",
      "Stab. 2         9        12         7         8\n",
      "Stab. 3        14         9        11         5\n"
     ]
    }
   ],
   "source": [
    "# Visualizzazione tabellare dei dati\n",
    "print(\"\\n=== CAPACITÀ STABILIMENTI ===\")\n",
    "df_capacita = pd.DataFrame([\n",
    "    {'Stabilimento': f'Stab. {i}', 'Capacità (unità/mese)': capacita[i]} \n",
    "    for i in stabilimenti\n",
    "])\n",
    "print(df_capacita.to_string(index=False))\n",
    "\n",
    "print(\"\\n=== DOMANDA CENTRI DISTRIBUTIVI ===\")\n",
    "df_domanda = pd.DataFrame([\n",
    "    {'Centro': f'Centro {j}', 'Domanda (unità/mese)': domanda[j]} \n",
    "    for j in centri\n",
    "])\n",
    "print(df_domanda.to_string(index=False))\n",
    "\n",
    "print(\"\\n=== MATRICE COSTI DI TRASPORTO (€/unità) ===\")\n",
    "df_costi = pd.DataFrame(costo).T\n",
    "df_costi.index = [f'Stab. {i}' for i in stabilimenti]\n",
    "df_costi.columns = [f'Centro {j}' for j in centri]\n",
    "print(df_costi)"
   ]
  },
  {
   "cell_type": "markdown",
   "metadata": {},
   "source": [
    "### Step 3: Creazione del Modello Gurobi"
   ]
  },
  {
   "cell_type": "code",
   "execution_count": 4,
   "metadata": {},
   "outputs": [
    {
     "name": "stdout",
     "output_type": "stream",
     "text": [
      "Set parameter Username\n",
      "Set parameter LicenseID to value 2704465\n",
      "Academic license - for non-commercial use only - expires 2026-09-08\n",
      "Modello creato con successo!\n"
     ]
    }
   ],
   "source": [
    "# Creiamo il modello\n",
    "modello = gp.Model(\"Rete_Logistica\")\n",
    "\n",
    "# Opzionale: output silenzioso\n",
    "modello.Params.OutputFlag = 0\n",
    "\n",
    "print(\"Modello creato con successo!\")"
   ]
  },
  {
   "cell_type": "markdown",
   "metadata": {},
   "source": [
    "### Step 4: Definizione delle Variabili Decisionali\n",
    "\n",
    "Creiamo una variabile $x_{ij}$ per ogni coppia (stabilimento, centro)."
   ]
  },
  {
   "cell_type": "code",
   "execution_count": 5,
   "metadata": {},
   "outputs": [
    {
     "name": "stdout",
     "output_type": "stream",
     "text": [
      "\n",
      "=== VARIABILI DECISIONALI DEFINITE ===\n",
      "Numero totale di variabili: 12\n",
      "\n",
      "Esempi:\n",
      "  x_1_A: quantità da Stabilimento 1 a Centro A\n",
      "  x_2_B: quantità da Stabilimento 2 a Centro B\n",
      "  x_3_D: quantità da Stabilimento 3 a Centro D\n"
     ]
    }
   ],
   "source": [
    "# Creiamo le variabili decisionali\n",
    "# x[i,j] = quantità trasportata dallo stabilimento i al centro j\n",
    "\n",
    "x = {}\n",
    "for i in stabilimenti:\n",
    "    for j in centri:\n",
    "        x[i, j] = modello.addVar(\n",
    "            lb=0,                          # lower bound\n",
    "            vtype=GRB.CONTINUOUS,          # variabile continua\n",
    "            name=f\"x_{i}_{j}\"              # nome della variabile\n",
    "        )\n",
    "\n",
    "modello.update()\n",
    "\n",
    "print(\"\\n=== VARIABILI DECISIONALI DEFINITE ===\")\n",
    "print(f\"Numero totale di variabili: {len(stabilimenti) * len(centri)}\")\n",
    "print(\"\\nEsempi:\")\n",
    "print(\"  x_1_A: quantità da Stabilimento 1 a Centro A\")\n",
    "print(\"  x_2_B: quantità da Stabilimento 2 a Centro B\")\n",
    "print(\"  x_3_D: quantità da Stabilimento 3 a Centro D\")"
   ]
  },
  {
   "cell_type": "markdown",
   "metadata": {},
   "source": [
    "### Step 5: Definizione della Funzione Obiettivo\n",
    "\n",
    "Vogliamo **minimizzare** il costo totale di trasporto."
   ]
  },
  {
   "cell_type": "code",
   "execution_count": 6,
   "metadata": {},
   "outputs": [
    {
     "name": "stdout",
     "output_type": "stream",
     "text": [
      "\n",
      "=== FUNZIONE OBIETTIVO ===\n",
      "Minimizza: Σ Σ c_ij * x_ij\n",
      "\n",
      "Costo totale di trasporto da minimizzare\n"
     ]
    }
   ],
   "source": [
    "# Funzione obiettivo: minimizzare i costi totali di trasporto\n",
    "# Somma di tutti i costi: sum_i sum_j (c_ij * x_ij)\n",
    "\n",
    "funzione_obiettivo = gp.quicksum(\n",
    "    costo[i][j] * x[i, j] \n",
    "    for i in stabilimenti \n",
    "    for j in centri\n",
    ")\n",
    "\n",
    "modello.setObjective(funzione_obiettivo, GRB.MINIMIZE)\n",
    "\n",
    "print(\"\\n=== FUNZIONE OBIETTIVO ===\")\n",
    "print(\"Minimizza: Σ Σ c_ij * x_ij\")\n",
    "print(\"\\nCosto totale di trasporto da minimizzare\")"
   ]
  },
  {
   "cell_type": "markdown",
   "metadata": {},
   "source": [
    "### Step 6: Aggiunta dei Vincoli\n",
    "\n",
    "Aggiungiamo due tipi di vincoli:\n",
    "1. **Vincoli di capacità** degli stabilimenti\n",
    "2. **Vincoli di domanda** dei centri distributivi"
   ]
  },
  {
   "cell_type": "code",
   "execution_count": 7,
   "metadata": {},
   "outputs": [
    {
     "name": "stdout",
     "output_type": "stream",
     "text": [
      "\n",
      "=== VINCOLI DI CAPACITÀ AGGIUNTI ===\n",
      "Stabilimento 1: Σ x_1_j ≤ 200\n",
      "Stabilimento 2: Σ x_2_j ≤ 300\n",
      "Stabilimento 3: Σ x_3_j ≤ 250\n"
     ]
    }
   ],
   "source": [
    "# VINCOLI DI CAPACITÀ DEGLI STABILIMENTI\n",
    "# Ogni stabilimento i non può spedire più della sua capacità\n",
    "# sum_j x_ij <= b_i  per ogni i\n",
    "\n",
    "vincoli_capacita = {}\n",
    "for i in stabilimenti:\n",
    "    vincoli_capacita[i] = modello.addConstr(\n",
    "        gp.quicksum(x[i, j] for j in centri) <= capacita[i],\n",
    "        name=f\"Capacita_Stab_{i}\"\n",
    "    )\n",
    "\n",
    "print(\"\\n=== VINCOLI DI CAPACITÀ AGGIUNTI ===\")\n",
    "for i in stabilimenti:\n",
    "    print(f\"Stabilimento {i}: Σ x_{i}_j ≤ {capacita[i]}\")"
   ]
  },
  {
   "cell_type": "code",
   "execution_count": 8,
   "metadata": {},
   "outputs": [
    {
     "name": "stdout",
     "output_type": "stream",
     "text": [
      "\n",
      "=== VINCOLI DI DOMANDA AGGIUNTI ===\n",
      "Centro A: Σ x_i_A = 150\n",
      "Centro B: Σ x_i_B = 200\n",
      "Centro C: Σ x_i_C = 180\n",
      "Centro D: Σ x_i_D = 170\n",
      "\n",
      "✓ Tutti i vincoli sono stati aggiunti al modello\n"
     ]
    }
   ],
   "source": [
    "# VINCOLI DI DOMANDA DEI CENTRI\n",
    "# Ogni centro j deve ricevere esattamente la sua domanda\n",
    "# sum_i x_ij = d_j  per ogni j\n",
    "\n",
    "vincoli_domanda = {}\n",
    "for j in centri:\n",
    "    vincoli_domanda[j] = modello.addConstr(\n",
    "        gp.quicksum(x[i, j] for i in stabilimenti) == domanda[j],\n",
    "        name=f\"Domanda_Centro_{j}\"\n",
    "    )\n",
    "\n",
    "modello.update()\n",
    "\n",
    "print(\"\\n=== VINCOLI DI DOMANDA AGGIUNTI ===\")\n",
    "for j in centri:\n",
    "    print(f\"Centro {j}: Σ x_i_{j} = {domanda[j]}\")\n",
    "\n",
    "print(\"\\n✓ Tutti i vincoli sono stati aggiunti al modello\")"
   ]
  },
  {
   "cell_type": "markdown",
   "metadata": {},
   "source": [
    "### Step 7: Riepilogo del Modello"
   ]
  },
  {
   "cell_type": "code",
   "execution_count": 9,
   "metadata": {},
   "outputs": [
    {
     "name": "stdout",
     "output_type": "stream",
     "text": [
      "\n",
      "=== RIEPILOGO MODELLO ===\n",
      "Variabili: 12\n",
      "Vincoli: 7\n",
      "  - Vincoli di capacità: 3\n",
      "  - Vincoli di domanda: 4\n",
      "Tipo di modello: Programmazione Lineare (LP)\n"
     ]
    }
   ],
   "source": [
    "print(\"\\n=== RIEPILOGO MODELLO ===\")\n",
    "print(f\"Variabili: {modello.NumVars}\")\n",
    "print(f\"Vincoli: {modello.NumConstrs}\")\n",
    "print(f\"  - Vincoli di capacità: {len(stabilimenti)}\")\n",
    "print(f\"  - Vincoli di domanda: {len(centri)}\")\n",
    "print(f\"Tipo di modello: Programmazione Lineare (LP)\")"
   ]
  },
  {
   "cell_type": "markdown",
   "metadata": {},
   "source": [
    "## 🚀 Risoluzione del Modello"
   ]
  },
  {
   "cell_type": "code",
   "execution_count": 10,
   "metadata": {},
   "outputs": [
    {
     "name": "stdout",
     "output_type": "stream",
     "text": [
      "\n",
      "=== RISOLUZIONE IN CORSO ===\n",
      "Sto ottimizzando la rete logistica...\n",
      "\n",
      "✅ SOLUZIONE OTTIMA TROVATA!\n"
     ]
    }
   ],
   "source": [
    "# Risolviamo il modello\n",
    "print(\"\\n=== RISOLUZIONE IN CORSO ===\")\n",
    "print(\"Sto ottimizzando la rete logistica...\\n\")\n",
    "\n",
    "modello.optimize()\n",
    "\n",
    "# Controlliamo lo stato della soluzione\n",
    "if modello.status == GRB.OPTIMAL:\n",
    "    print(\"✅ SOLUZIONE OTTIMA TROVATA!\")\n",
    "elif modello.status == GRB.INFEASIBLE:\n",
    "    print(\"❌ Il modello è INAMMISSIBILE\")\n",
    "elif modello.status == GRB.UNBOUNDED:\n",
    "    print(\"⚠️ Il modello è ILLIMITATO\")\n",
    "else:\n",
    "    print(f\"⚠️ Status: {modello.status}\")"
   ]
  },
  {
   "cell_type": "markdown",
   "metadata": {},
   "source": [
    "## 📊 Risultati della Soluzione Ottima"
   ]
  },
  {
   "cell_type": "code",
   "execution_count": 11,
   "metadata": {},
   "outputs": [
    {
     "name": "stdout",
     "output_type": "stream",
     "text": [
      "\n",
      "======================================================================\n",
      "                    PIANO DI DISTRIBUZIONE OTTIMALE\n",
      "======================================================================\n",
      "\n",
      "💰 COSTO TOTALE DI TRASPORTO: 4,720.00 €/mese\n",
      "======================================================================\n",
      "\n",
      "📦 QUANTITÀ DA SPEDIRE (unità/mese):\n",
      "\n",
      "                 Centro A  Centro B  Centro C  Centro D  TOTALE SPEDITO\n",
      "Stab. 1              30.0     170.0       0.0       0.0           200.0\n",
      "Stab. 2             120.0       0.0     180.0       0.0           300.0\n",
      "Stab. 3               0.0      30.0       0.0     170.0           200.0\n",
      "TOTALE RICEVUTO     150.0     200.0     180.0     170.0           700.0\n",
      "\n",
      "======================================================================\n"
     ]
    }
   ],
   "source": [
    "if modello.status == GRB.OPTIMAL:\n",
    "    print(\"\\n\" + \"=\"*70)\n",
    "    print(\"                    PIANO DI DISTRIBUZIONE OTTIMALE\")\n",
    "    print(\"=\"*70)\n",
    "    \n",
    "    # Salviamo la soluzione\n",
    "    soluzione = {}\n",
    "    for i in stabilimenti:\n",
    "        for j in centri:\n",
    "            soluzione[i, j] = x[i, j].X\n",
    "    \n",
    "    # Costo totale\n",
    "    costo_totale = modello.ObjVal\n",
    "    print(f\"\\n💰 COSTO TOTALE DI TRASPORTO: {costo_totale:,.2f} €/mese\")\n",
    "    print(\"=\"*70)\n",
    "    \n",
    "    # Matrice delle spedizioni\n",
    "    print(\"\\n📦 QUANTITÀ DA SPEDIRE (unità/mese):\\n\")\n",
    "    \n",
    "    # Creiamo un DataFrame per visualizzare meglio\n",
    "    df_soluzione = pd.DataFrame(\n",
    "        [[soluzione[i, j] for j in centri] for i in stabilimenti],\n",
    "        index=[f'Stab. {i}' for i in stabilimenti],\n",
    "        columns=[f'Centro {j}' for j in centri]\n",
    "    )\n",
    "    \n",
    "    # Aggiungiamo una colonna con i totali spediti\n",
    "    df_soluzione['TOTALE SPEDITO'] = df_soluzione.sum(axis=1)\n",
    "    \n",
    "    # Aggiungiamo una riga con i totali ricevuti\n",
    "    totali_ricevuti = df_soluzione.iloc[:, :-1].sum(axis=0)\n",
    "    totali_ricevuti['TOTALE SPEDITO'] = df_soluzione['TOTALE SPEDITO'].sum()\n",
    "    df_soluzione.loc['TOTALE RICEVUTO'] = totali_ricevuti\n",
    "    \n",
    "    print(df_soluzione.to_string())\n",
    "    \n",
    "    print(\"\\n\" + \"=\"*70)"
   ]
  },
  {
   "cell_type": "code",
   "execution_count": 12,
   "metadata": {},
   "outputs": [
    {
     "name": "stdout",
     "output_type": "stream",
     "text": [
      "\n",
      "🏭 ANALISI PER STABILIMENTO:\n",
      "----------------------------------------------------------------------\n",
      "\n",
      "Stabilimento 1:\n",
      "  Capacità: 200 unità\n",
      "  Spedito: 200.00 unità (100.0%)\n",
      "  Capacità residua: 0.00 unità\n",
      "  Spedisce verso:\n",
      "    - Centro B: 170.00 unità (costo: 6€/u)\n",
      "    - Centro A: 30.00 unità (costo: 8€/u)\n",
      "\n",
      "Stabilimento 2:\n",
      "  Capacità: 300 unità\n",
      "  Spedito: 300.00 unità (100.0%)\n",
      "  Capacità residua: 0.00 unità\n",
      "  Spedisce verso:\n",
      "    - Centro C: 180.00 unità (costo: 7€/u)\n",
      "    - Centro A: 120.00 unità (costo: 9€/u)\n",
      "\n",
      "Stabilimento 3:\n",
      "  Capacità: 250 unità\n",
      "  Spedito: 200.00 unità (80.0%)\n",
      "  Capacità residua: 50.00 unità\n",
      "  Spedisce verso:\n",
      "    - Centro D: 170.00 unità (costo: 5€/u)\n",
      "    - Centro B: 30.00 unità (costo: 9€/u)\n",
      "\n",
      "======================================================================\n"
     ]
    }
   ],
   "source": [
    "if modello.status == GRB.OPTIMAL:\n",
    "    # Analisi dettagliata per stabilimento\n",
    "    print(\"\\n🏭 ANALISI PER STABILIMENTO:\")\n",
    "    print(\"-\" * 70)\n",
    "    \n",
    "    for i in stabilimenti:\n",
    "        quantita_spedita = sum(soluzione[i, j] for j in centri)\n",
    "        capacita_inutilizzata = capacita[i] - quantita_spedita\n",
    "        percentuale_utilizzo = (quantita_spedita / capacita[i]) * 100\n",
    "        \n",
    "        print(f\"\\nStabilimento {i}:\")\n",
    "        print(f\"  Capacità: {capacita[i]} unità\")\n",
    "        print(f\"  Spedito: {quantita_spedita:.2f} unità ({percentuale_utilizzo:.1f}%)\")\n",
    "        print(f\"  Capacità residua: {capacita_inutilizzata:.2f} unità\")\n",
    "        \n",
    "        # Destinazioni principali\n",
    "        spedizioni = [(j, soluzione[i, j]) for j in centri if soluzione[i, j] > 0.1]\n",
    "        if spedizioni:\n",
    "            print(f\"  Spedisce verso:\")\n",
    "            for j, qty in sorted(spedizioni, key=lambda x: x[1], reverse=True):\n",
    "                print(f\"    - Centro {j}: {qty:.2f} unità (costo: {costo[i][j]}€/u)\")\n",
    "    \n",
    "    print(\"\\n\" + \"=\"*70)"
   ]
  },
  {
   "cell_type": "code",
   "execution_count": 13,
   "metadata": {},
   "outputs": [
    {
     "name": "stdout",
     "output_type": "stream",
     "text": [
      "\n",
      "🏪 ANALISI PER CENTRO DISTRIBUTIVO:\n",
      "----------------------------------------------------------------------\n",
      "\n",
      "Centro A:\n",
      "  Domanda: 150 unità\n",
      "  Rifornito da:\n",
      "    - Stabilimento 2: 120.00 unità (80.0%) - Costo: 1080.00€\n",
      "    - Stabilimento 1: 30.00 unità (20.0%) - Costo: 240.00€\n",
      "  Costo totale rifornimento: 1320.00€\n",
      "  Costo medio per unità: 8.80€/unità\n",
      "\n",
      "Centro B:\n",
      "  Domanda: 200 unità\n",
      "  Rifornito da:\n",
      "    - Stabilimento 1: 170.00 unità (85.0%) - Costo: 1020.00€\n",
      "    - Stabilimento 3: 30.00 unità (15.0%) - Costo: 270.00€\n",
      "  Costo totale rifornimento: 1290.00€\n",
      "  Costo medio per unità: 6.45€/unità\n",
      "\n",
      "Centro C:\n",
      "  Domanda: 180 unità\n",
      "  Rifornito da:\n",
      "    - Stabilimento 2: 180.00 unità (100.0%) - Costo: 1260.00€\n",
      "  Costo totale rifornimento: 1260.00€\n",
      "  Costo medio per unità: 7.00€/unità\n",
      "\n",
      "Centro D:\n",
      "  Domanda: 170 unità\n",
      "  Rifornito da:\n",
      "    - Stabilimento 3: 170.00 unità (100.0%) - Costo: 850.00€\n",
      "  Costo totale rifornimento: 850.00€\n",
      "  Costo medio per unità: 5.00€/unità\n",
      "\n",
      "======================================================================\n"
     ]
    }
   ],
   "source": [
    "if modello.status == GRB.OPTIMAL:\n",
    "    # Analisi dettagliata per centro distributivo\n",
    "    print(\"\\n🏪 ANALISI PER CENTRO DISTRIBUTIVO:\")\n",
    "    print(\"-\" * 70)\n",
    "    \n",
    "    for j in centri:\n",
    "        print(f\"\\nCentro {j}:\")\n",
    "        print(f\"  Domanda: {domanda[j]} unità\")\n",
    "        \n",
    "        # Fornitori\n",
    "        forniture = [(i, soluzione[i, j]) for i in stabilimenti if soluzione[i, j] > 0.1]\n",
    "        if forniture:\n",
    "            print(f\"  Rifornito da:\")\n",
    "            for i, qty in sorted(forniture, key=lambda x: x[1], reverse=True):\n",
    "                percentuale = (qty / domanda[j]) * 100\n",
    "                costo_totale_rotta = qty * costo[i][j]\n",
    "                print(f\"    - Stabilimento {i}: {qty:.2f} unità ({percentuale:.1f}%) - Costo: {costo_totale_rotta:.2f}€\")\n",
    "        \n",
    "        # Costo medio di rifornimento\n",
    "        costo_centro = sum(soluzione[i, j] * costo[i][j] for i in stabilimenti)\n",
    "        costo_medio = costo_centro / domanda[j] if domanda[j] > 0 else 0\n",
    "        print(f\"  Costo totale rifornimento: {costo_centro:.2f}€\")\n",
    "        print(f\"  Costo medio per unità: {costo_medio:.2f}€/unità\")\n",
    "    \n",
    "    print(\"\\n\" + \"=\"*70)"
   ]
  },
  {
   "cell_type": "markdown",
   "metadata": {},
   "source": [
    "## 📊 Grafici di Analisi"
   ]
  },
  {
   "cell_type": "code",
   "execution_count": 15,
   "metadata": {},
   "outputs": [
    {
     "data": {
      "image/png": "[encoded data removed]",
      "text/plain": [
       "<Figure size 1500x1000 with 5 Axes>"
      ]
     },
     "metadata": {},
     "output_type": "display_data"
    }
   ],
   "source": [
    "if modello.status == GRB.OPTIMAL:\n",
    "    fig, axes = plt.subplots(2, 2, figsize=(15, 10))\n",
    "    \n",
    "    # Grafico 1: Utilizzo capacità stabilimenti\n",
    "    utilizzo_stab = [sum(soluzione[i, j] for j in centri) for i in stabilimenti]\n",
    "    capacita_lista = [capacita[i] for i in stabilimenti]\n",
    "    \n",
    "    x_pos = np.arange(len(stabilimenti))\n",
    "    width = 0.35\n",
    "    \n",
    "    axes[0, 0].bar(x_pos - width/2, capacita_lista, width, label='Capacità', color='lightcoral', alpha=0.7)\n",
    "    axes[0, 0].bar(x_pos + width/2, utilizzo_stab, width, label='Utilizzato', color='#FF6B6B')\n",
    "    axes[0, 0].set_xlabel('Stabilimento')\n",
    "    axes[0, 0].set_ylabel('Unità')\n",
    "    axes[0, 0].set_title('Utilizzo Capacità Stabilimenti')\n",
    "    axes[0, 0].set_xticks(x_pos)\n",
    "    axes[0, 0].set_xticklabels([f'Stab. {i}' for i in stabilimenti])\n",
    "    axes[0, 0].legend()\n",
    "    axes[0, 0].grid(axis='y', alpha=0.3)\n",
    "    \n",
    "    # Grafico 2: Domanda centri (sempre soddisfatta)\n",
    "    domanda_lista = [domanda[j] for j in centri]\n",
    "    ricevuto_lista = [sum(soluzione[i, j] for i in stabilimenti) for j in centri]\n",
    "    \n",
    "    axes[0, 1].bar(centri, domanda_lista, color='#4ECDC4', alpha=0.9)\n",
    "    axes[0, 1].set_xlabel('Centro Distributivo')\n",
    "    axes[0, 1].set_ylabel('Unità')\n",
    "    axes[0, 1].set_title('Domanda Centri Distributivi (Soddisfatta)')\n",
    "    axes[0, 1].grid(axis='y', alpha=0.3)\n",
    "    \n",
    "    # Aggiungi valori\n",
    "    for i, (centro, val) in enumerate(zip(centri, domanda_lista)):\n",
    "        axes[0, 1].text(i, val, f'{val:.0f}', ha='center', va='bottom', fontweight='bold')\n",
    "    \n",
    "    # Grafico 3: Distribuzione dei costi\n",
    "    costi_per_centro = []\n",
    "    for j in centri:\n",
    "        costo_centro = sum(soluzione[i, j] * costo[i][j] for i in stabilimenti)\n",
    "        costi_per_centro.append(costo_centro)\n",
    "    \n",
    "    axes[1, 0].pie(costi_per_centro, labels=[f'Centro {j}' for j in centri], \n",
    "                   autopct='%1.1f%%', startangle=90, colors=['#FF6B6B', '#4ECDC4', '#45B7D1', '#FFA07A'])\n",
    "    axes[1, 0].set_title('Distribuzione Costi per Centro')\n",
    "    \n",
    "    # Grafico 4: Heatmap delle spedizioni\n",
    "    spedizioni_matrix = np.array([[soluzione[i, j] for j in centri] for i in stabilimenti])\n",
    "    \n",
    "    im = axes[1, 1].imshow(spedizioni_matrix, cmap='YlOrRd', aspect='auto')\n",
    "    axes[1, 1].set_xticks(np.arange(len(centri)))\n",
    "    axes[1, 1].set_yticks(np.arange(len(stabilimenti)))\n",
    "    axes[1, 1].set_xticklabels([f'Centro {j}' for j in centri])\n",
    "    axes[1, 1].set_yticklabels([f'Stab. {i}' for i in stabilimenti])\n",
    "    axes[1, 1].set_title('Heatmap Spedizioni (unità)')\n",
    "    \n",
    "    # Aggiungi valori nella heatmap\n",
    "    for i in range(len(stabilimenti)):\n",
    "        for j in range(len(centri)):\n",
    "            text = axes[1, 1].text(j, i, f'{spedizioni_matrix[i, j]:.0f}',\n",
    "                                  ha=\"center\", va=\"center\", color=\"black\", fontweight='bold')\n",
    "    \n",
    "    plt.colorbar(im, ax=axes[1, 1])\n",
    "    \n",
    "    plt.tight_layout()\n",
    "    plt.show()"
   ]
  },
  {
   "cell_type": "markdown",
   "metadata": {},
   "source": [
    "## 🧪 Esperimenti: Analisi What-If"
   ]
  },
  {
   "cell_type": "markdown",
   "metadata": {},
   "source": [
    "### Esperimento 1: Aumento della domanda del Centro A (+20 unità)"
   ]
  },
  {
   "cell_type": "code",
   "execution_count": 17,
   "metadata": {},
   "outputs": [
    {
     "name": "stdout",
     "output_type": "stream",
     "text": [
      "\n",
      "=== SCENARIO: Domanda Centro A = 170 unità ===\n",
      "\n",
      "Costo originale: 4,720.00 €\n",
      "Nuovo costo: 4,940.00 €\n",
      "Aumento costo: 220.00 € (+4.7%)\n",
      "Costo marginale per unità aggiuntiva: 11.00 €/unità\n",
      "\n",
      "Nuove spedizioni verso Centro A:\n",
      "  Stabilimento 1: 50.00 unità\n",
      "  Stabilimento 2: 120.00 unità\n"
     ]
    }
   ],
   "source": [
    "# Salviamo il costo originale\n",
    "costo_originale = costo_totale\n",
    "\n",
    "# Modifichiamo la domanda del Centro A\n",
    "vincoli_domanda['A'].RHS = 170  # da 150 a 170\n",
    "\n",
    "# Risolviamo di nuovo\n",
    "modello.optimize()\n",
    "\n",
    "if modello.status == GRB.OPTIMAL:\n",
    "    print(\"\\n=== SCENARIO: Domanda Centro A = 170 unità ===\")\n",
    "    print(f\"\\nCosto originale: {costo_originale:,.2f} €\")\n",
    "    print(f\"Nuovo costo: {modello.ObjVal:,.2f} €\")\n",
    "    print(f\"Aumento costo: {modello.ObjVal - costo_originale:,.2f} € (+{((modello.ObjVal/costo_originale - 1)*100):.1f}%)\")\n",
    "    print(f\"Costo marginale per unità aggiuntiva: {(modello.ObjVal - costo_originale)/20:.2f} €/unità\")\n",
    "    \n",
    "    print(\"\\nNuove spedizioni verso Centro A:\")\n",
    "    for i in stabilimenti:\n",
    "        if x[i, 'A'].X > 0.1:\n",
    "            print(f\"  Stabilimento {i}: {x[i, 'A'].X:.2f} unità\")\n",
    "elif modello.status == GRB.INFEASIBLE:\n",
    "    print(\"\\n❌ SOLUZIONE NON AMMISSIBILE!\")\n",
    "    print(\"La capacità totale non è sufficiente per soddisfare la nuova domanda.\")\n",
    "\n",
    "# Ripristiniamo il valore originale\n",
    "vincoli_domanda['A'].RHS = 150\n",
    "modello.optimize()"
   ]
  },
  {
   "cell_type": "markdown",
   "metadata": {},
   "source": [
    "### Esperimento 2: Riduzione del costo di trasporto Stab.3 → Centro D"
   ]
  },
  {
   "cell_type": "code",
   "execution_count": 18,
   "metadata": {},
   "outputs": [
    {
     "name": "stdout",
     "output_type": "stream",
     "text": [
      "\n",
      "=== SCENARIO: Costo Stab.3→Centro D = 3€/u (invece di 5€) ===\n",
      "\n",
      "Costo originale: 4,720.00 €\n",
      "Nuovo costo: 4,380.00 €\n",
      "Risparmio: 340.00 € (-7.2%)\n",
      "\n",
      "Come cambia la spedizione verso Centro D:\n",
      "  Stabilimento 3: 170.00 unità (prima: 170.00)\n"
     ]
    }
   ],
   "source": [
    "# Il costo Stab.3 → Centro D passa da 5€ a 3€\n",
    "costo_originale_3D = costo[3]['D']\n",
    "costo[3]['D'] = 3\n",
    "\n",
    "# Ridefinisco la funzione obiettivo\n",
    "modello.setObjective(\n",
    "    gp.quicksum(costo[i][j] * x[i, j] for i in stabilimenti for j in centri),\n",
    "    GRB.MINIMIZE\n",
    ")\n",
    "\n",
    "# Risolvo\n",
    "modello.optimize()\n",
    "\n",
    "if modello.status == GRB.OPTIMAL:\n",
    "    print(\"\\n=== SCENARIO: Costo Stab.3→Centro D = 3€/u (invece di 5€) ===\")\n",
    "    print(f\"\\nCosto originale: {costo_totale:,.2f} €\")\n",
    "    print(f\"Nuovo costo: {modello.ObjVal:,.2f} €\")\n",
    "    print(f\"Risparmio: {costo_totale - modello.ObjVal:,.2f} € (-{((1 - modello.ObjVal/costo_totale)*100):.1f}%)\")\n",
    "    \n",
    "    print(\"\\nCome cambia la spedizione verso Centro D:\")\n",
    "    for i in stabilimenti:\n",
    "        if x[i, 'D'].X > 0.1:\n",
    "            print(f\"  Stabilimento {i}: {x[i, 'D'].X:.2f} unità (prima: {soluzione[i, 'D']:.2f})\")\n",
    "\n",
    "# Ripristino\n",
    "costo[3]['D'] = costo_originale_3D\n",
    "modello.setObjective(\n",
    "    gp.quicksum(costo[i][j] * x[i, j] for i in stabilimenti for j in centri),\n",
    "    GRB.MINIMIZE\n",
    ")\n",
    "modello.optimize()"
   ]
  },
  {
   "cell_type": "markdown",
   "metadata": {},
   "source": [
    "### Esperimento 3: Cosa succede se riduciamo la capacità dello Stabilimento 2?"
   ]
  },
  {
   "cell_type": "code",
   "execution_count": 19,
   "metadata": {},
   "outputs": [
    {
     "name": "stdout",
     "output_type": "stream",
     "text": [
      "\n",
      "=== SCENARIO: Capacità Stab.2 = 250 unità (invece di 300) ===\n",
      "\n",
      "Costo originale: 4,720.00 €\n",
      "Nuovo costo: 4,820.00 €\n",
      "Aumento: 100.00 € (+2.1%)\n",
      "\n",
      "Come si ridistribuisce il carico:\n",
      "  Stabilimento 1: 200.00 unità (prima: 200.00)\n",
      "  Stabilimento 2: 250.00 unità (prima: 300.00)\n",
      "  Stabilimento 3: 250.00 unità (prima: 200.00)\n"
     ]
    }
   ],
   "source": [
    "# Riduciamo la capacità da 300 a 250\n",
    "vincoli_capacita[2].RHS = 250\n",
    "\n",
    "modello.optimize()\n",
    "\n",
    "if modello.status == GRB.OPTIMAL:\n",
    "    print(\"\\n=== SCENARIO: Capacità Stab.2 = 250 unità (invece di 300) ===\")\n",
    "    print(f\"\\nCosto originale: {costo_totale:,.2f} €\")\n",
    "    print(f\"Nuovo costo: {modello.ObjVal:,.2f} €\")\n",
    "    print(f\"Aumento: {modello.ObjVal - costo_totale:,.2f} € (+{((modello.ObjVal/costo_totale - 1)*100):.1f}%)\")\n",
    "    \n",
    "    print(\"\\nCome si ridistribuisce il carico:\")\n",
    "    for i in stabilimenti:\n",
    "        nuova_spedizione = sum(x[i, j].X for j in centri)\n",
    "        vecchia_spedizione = sum(soluzione[i, j] for j in centri)\n",
    "        print(f\"  Stabilimento {i}: {nuova_spedizione:.2f} unità (prima: {vecchia_spedizione:.2f})\")\n",
    "\n",
    "# Ripristino\n",
    "vincoli_capacita[2].RHS = 300\n",
    "modello.optimize()"
   ]
  },
  {
   "cell_type": "code",
   "execution_count": 20,
   "metadata": {},
   "outputs": [
    {
     "name": "stdout",
     "output_type": "stream",
     "text": [
      "\n",
      "✅ Modello esportato in 'rete_logistica.lp'\n",
      "✅ Soluzione esportata in 'rete_logistica_soluzione.sol'\n"
     ]
    }
   ],
   "source": [
    "# Esportiamo il modello in formato leggibile\n",
    "modello.write(\"rete_logistica.lp\")\n",
    "print(\"\\n✅ Modello esportato in 'rete_logistica.lp'\")\n",
    "\n",
    "# Esportiamo anche la soluzione\n",
    "modello.write(\"rete_logistica_soluzione.sol\")\n",
    "print(\"✅ Soluzione esportata in 'rete_logistica_soluzione.sol'\")"
   ]
  }
 ],
 "metadata": {
  "kernelspec": {
   "display_name": "virtualenv",
   "language": "python",
   "name": "python3"
  },
  "language_info": {
   "codemirror_mode": {
    "name": "ipython",
    "version": 3
   },
   "file_extension": ".py",
   "mimetype": "text/x-python",
   "name": "python",
   "nbconvert_exporter": "python",
   "pygments_lexer": "ipython3",
   "version": "3.13.7"
  }
 },
 "nbformat": 4,
 "nbformat_minor": 4
}
